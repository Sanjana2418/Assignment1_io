{
 "cells": [
  {
   "cell_type": "markdown",
   "metadata": {
    "id": "lP6JLo1tGNBg"
   },
   "source": [
    "# Artificial Neural Network"
   ]
  },
  {
   "cell_type": "markdown",
   "metadata": {
    "id": "gWZyYmS_UE_L"
   },
   "source": [
    "### Importing the libraries"
   ]
  },
  {
   "cell_type": "code",
   "execution_count": 1,
   "metadata": {
    "id": "MxkJoQBkUIHC"
   },
   "outputs": [],
   "source": [
    "import numpy as np\n",
    "import pandas as pd\n",
    "import tensorflow as tf"
   ]
  },
  {
   "cell_type": "markdown",
   "metadata": {
    "id": "cKWAkFVGUU0Z"
   },
   "source": [
    "### Importing the dataset"
   ]
  },
  {
   "cell_type": "code",
   "execution_count": 2,
   "metadata": {
    "id": "MXUkhkMfU4wq"
   },
   "outputs": [
    {
     "data": {
      "text/html": [
       "<div>\n",
       "<style scoped>\n",
       "    .dataframe tbody tr th:only-of-type {\n",
       "        vertical-align: middle;\n",
       "    }\n",
       "\n",
       "    .dataframe tbody tr th {\n",
       "        vertical-align: top;\n",
       "    }\n",
       "\n",
       "    .dataframe thead th {\n",
       "        text-align: right;\n",
       "    }\n",
       "</style>\n",
       "<table border=\"1\" class=\"dataframe\">\n",
       "  <thead>\n",
       "    <tr style=\"text-align: right;\">\n",
       "      <th></th>\n",
       "      <th>Age</th>\n",
       "      <th>EstimatedSalary</th>\n",
       "      <th>Purchased</th>\n",
       "    </tr>\n",
       "  </thead>\n",
       "  <tbody>\n",
       "    <tr>\n",
       "      <th>0</th>\n",
       "      <td>19</td>\n",
       "      <td>19000</td>\n",
       "      <td>0</td>\n",
       "    </tr>\n",
       "    <tr>\n",
       "      <th>1</th>\n",
       "      <td>35</td>\n",
       "      <td>20000</td>\n",
       "      <td>0</td>\n",
       "    </tr>\n",
       "    <tr>\n",
       "      <th>2</th>\n",
       "      <td>26</td>\n",
       "      <td>43000</td>\n",
       "      <td>0</td>\n",
       "    </tr>\n",
       "    <tr>\n",
       "      <th>3</th>\n",
       "      <td>27</td>\n",
       "      <td>57000</td>\n",
       "      <td>0</td>\n",
       "    </tr>\n",
       "    <tr>\n",
       "      <th>4</th>\n",
       "      <td>19</td>\n",
       "      <td>76000</td>\n",
       "      <td>0</td>\n",
       "    </tr>\n",
       "    <tr>\n",
       "      <th>...</th>\n",
       "      <td>...</td>\n",
       "      <td>...</td>\n",
       "      <td>...</td>\n",
       "    </tr>\n",
       "    <tr>\n",
       "      <th>395</th>\n",
       "      <td>46</td>\n",
       "      <td>41000</td>\n",
       "      <td>1</td>\n",
       "    </tr>\n",
       "    <tr>\n",
       "      <th>396</th>\n",
       "      <td>51</td>\n",
       "      <td>23000</td>\n",
       "      <td>1</td>\n",
       "    </tr>\n",
       "    <tr>\n",
       "      <th>397</th>\n",
       "      <td>50</td>\n",
       "      <td>20000</td>\n",
       "      <td>1</td>\n",
       "    </tr>\n",
       "    <tr>\n",
       "      <th>398</th>\n",
       "      <td>36</td>\n",
       "      <td>33000</td>\n",
       "      <td>0</td>\n",
       "    </tr>\n",
       "    <tr>\n",
       "      <th>399</th>\n",
       "      <td>49</td>\n",
       "      <td>36000</td>\n",
       "      <td>1</td>\n",
       "    </tr>\n",
       "  </tbody>\n",
       "</table>\n",
       "<p>400 rows × 3 columns</p>\n",
       "</div>"
      ],
      "text/plain": [
       "     Age  EstimatedSalary  Purchased\n",
       "0     19            19000          0\n",
       "1     35            20000          0\n",
       "2     26            43000          0\n",
       "3     27            57000          0\n",
       "4     19            76000          0\n",
       "..   ...              ...        ...\n",
       "395   46            41000          1\n",
       "396   51            23000          1\n",
       "397   50            20000          1\n",
       "398   36            33000          0\n",
       "399   49            36000          1\n",
       "\n",
       "[400 rows x 3 columns]"
      ]
     },
     "execution_count": 2,
     "metadata": {},
     "output_type": "execute_result"
    }
   ],
   "source": [
    "dataset = pd.read_csv('Social_Network_Ads.csv')\n",
    "X = dataset.iloc[:, :-1].values\n",
    "y = dataset.iloc[:, -1].values\n",
    "dataset"
   ]
  },
  {
   "cell_type": "markdown",
   "metadata": {
    "id": "vHol938cW8zd"
   },
   "source": [
    "### Splitting the dataset into the Training set and Test set"
   ]
  },
  {
   "cell_type": "code",
   "execution_count": 5,
   "metadata": {
    "id": "Z-TDt0Y_XEfc"
   },
   "outputs": [],
   "source": [
    "from sklearn.model_selection import train_test_split\n",
    "X_train, X_test, y_train, y_test = train_test_split(X, y, test_size = 0.2, random_state = 0)"
   ]
  },
  {
   "cell_type": "markdown",
   "metadata": {
    "id": "RE_FcHyfV3TQ"
   },
   "source": [
    "### Feature Scaling"
   ]
  },
  {
   "cell_type": "code",
   "execution_count": 6,
   "metadata": {
    "id": "ViCrE00rV8Sk"
   },
   "outputs": [],
   "source": [
    "from sklearn.preprocessing import StandardScaler\n",
    "sc = StandardScaler()\n",
    "X_train = sc.fit_transform(X_train)\n",
    "X_test = sc.transform(X_test)"
   ]
  },
  {
   "cell_type": "markdown",
   "metadata": {
    "id": "KvdeScabXtlB"
   },
   "source": [
    "### Initializing the ANN"
   ]
  },
  {
   "cell_type": "code",
   "execution_count": 7,
   "metadata": {
    "id": "3dtrScHxXQox"
   },
   "outputs": [],
   "source": [
    "ann = tf.keras.models.Sequential()"
   ]
  },
  {
   "cell_type": "markdown",
   "metadata": {
    "id": "rP6urV6SX7kS"
   },
   "source": [
    "### Adding the input layer and the first hidden layer"
   ]
  },
  {
   "cell_type": "code",
   "execution_count": 8,
   "metadata": {
    "id": "bppGycBXYCQr"
   },
   "outputs": [],
   "source": [
    "ann.add(tf.keras.layers.Dense(units=6, activation='relu'))"
   ]
  },
  {
   "cell_type": "markdown",
   "metadata": {
    "id": "BELWAc_8YJze"
   },
   "source": [
    "### Adding the second hidden layer"
   ]
  },
  {
   "cell_type": "code",
   "execution_count": 9,
   "metadata": {
    "id": "JneR0u0sYRTd"
   },
   "outputs": [],
   "source": [
    "ann.add(tf.keras.layers.Dense(units=6, activation='relu'))"
   ]
  },
  {
   "cell_type": "markdown",
   "metadata": {
    "id": "OyNEe6RXYcU4"
   },
   "source": [
    "### Adding the output layer"
   ]
  },
  {
   "cell_type": "code",
   "execution_count": 10,
   "metadata": {
    "id": "Cn3x41RBYfvY"
   },
   "outputs": [],
   "source": [
    "ann.add(tf.keras.layers.Dense(units=1, activation='sigmoid'))"
   ]
  },
  {
   "cell_type": "markdown",
   "metadata": {
    "id": "8GWlJChhY_ZI"
   },
   "source": [
    "### Compiling the ANN"
   ]
  },
  {
   "cell_type": "code",
   "execution_count": 11,
   "metadata": {
    "id": "fG3RrwDXZEaS"
   },
   "outputs": [],
   "source": [
    "ann.compile(optimizer = 'adam', loss = 'binary_crossentropy', metrics = ['accuracy'])"
   ]
  },
  {
   "cell_type": "markdown",
   "metadata": {
    "id": "0QR_G5u7ZLSM"
   },
   "source": [
    "### Training the ANN on the Training set"
   ]
  },
  {
   "cell_type": "code",
   "execution_count": 15,
   "metadata": {
    "colab": {
     "base_uri": "https://localhost:8080/",
     "height": 1000
    },
    "id": "nHZ-LKv_ZRb3",
    "outputId": "718cc4b0-b5aa-40f0-9b20-d3d31730a531",
    "scrolled": true
   },
   "outputs": [
    {
     "name": "stdout",
     "output_type": "stream",
     "text": [
      "Epoch 1/100\n",
      "10/10 [==============================] - 0s 3ms/step - loss: 0.2173 - accuracy: 0.9187\n",
      "Epoch 2/100\n",
      "10/10 [==============================] - 0s 1ms/step - loss: 0.2173 - accuracy: 0.9156\n",
      "Epoch 3/100\n",
      "10/10 [==============================] - 0s 1ms/step - loss: 0.2174 - accuracy: 0.9125\n",
      "Epoch 4/100\n",
      "10/10 [==============================] - 0s 727us/step - loss: 0.2175 - accuracy: 0.9125\n",
      "Epoch 5/100\n",
      "10/10 [==============================] - 0s 845us/step - loss: 0.2173 - accuracy: 0.9156\n",
      "Epoch 6/100\n",
      "10/10 [==============================] - 0s 3ms/step - loss: 0.2179 - accuracy: 0.9156\n",
      "Epoch 7/100\n",
      "10/10 [==============================] - 0s 2ms/step - loss: 0.2175 - accuracy: 0.9156\n",
      "Epoch 8/100\n",
      "10/10 [==============================] - 0s 2ms/step - loss: 0.2178 - accuracy: 0.9156\n",
      "Epoch 9/100\n",
      "10/10 [==============================] - 0s 891us/step - loss: 0.2174 - accuracy: 0.9156\n",
      "Epoch 10/100\n",
      "10/10 [==============================] - 0s 815us/step - loss: 0.2174 - accuracy: 0.9125\n",
      "Epoch 11/100\n",
      "10/10 [==============================] - 0s 843us/step - loss: 0.2176 - accuracy: 0.9125\n",
      "Epoch 12/100\n",
      "10/10 [==============================] - 0s 1ms/step - loss: 0.2182 - accuracy: 0.9156\n",
      "Epoch 13/100\n",
      "10/10 [==============================] - 0s 940us/step - loss: 0.2175 - accuracy: 0.9187\n",
      "Epoch 14/100\n",
      "10/10 [==============================] - 0s 823us/step - loss: 0.2175 - accuracy: 0.9187\n",
      "Epoch 15/100\n",
      "10/10 [==============================] - 0s 1ms/step - loss: 0.2173 - accuracy: 0.9156\n",
      "Epoch 16/100\n",
      "10/10 [==============================] - 0s 792us/step - loss: 0.2175 - accuracy: 0.9156\n",
      "Epoch 17/100\n",
      "10/10 [==============================] - 0s 786us/step - loss: 0.2173 - accuracy: 0.9156\n",
      "Epoch 18/100\n",
      "10/10 [==============================] - 0s 1ms/step - loss: 0.2176 - accuracy: 0.9187\n",
      "Epoch 19/100\n",
      "10/10 [==============================] - 0s 860us/step - loss: 0.2173 - accuracy: 0.9156\n",
      "Epoch 20/100\n",
      "10/10 [==============================] - 0s 882us/step - loss: 0.2179 - accuracy: 0.9125\n",
      "Epoch 21/100\n",
      "10/10 [==============================] - 0s 1ms/step - loss: 0.2177 - accuracy: 0.9156\n",
      "Epoch 22/100\n",
      "10/10 [==============================] - 0s 1ms/step - loss: 0.2173 - accuracy: 0.9187\n",
      "Epoch 23/100\n",
      "10/10 [==============================] - 0s 764us/step - loss: 0.2176 - accuracy: 0.9187\n",
      "Epoch 24/100\n",
      "10/10 [==============================] - 0s 893us/step - loss: 0.2173 - accuracy: 0.9187\n",
      "Epoch 25/100\n",
      "10/10 [==============================] - 0s 1ms/step - loss: 0.2175 - accuracy: 0.9156\n",
      "Epoch 26/100\n",
      "10/10 [==============================] - 0s 849us/step - loss: 0.2173 - accuracy: 0.9156\n",
      "Epoch 27/100\n",
      "10/10 [==============================] - 0s 788us/step - loss: 0.2174 - accuracy: 0.9156\n",
      "Epoch 28/100\n",
      "10/10 [==============================] - 0s 1ms/step - loss: 0.2174 - accuracy: 0.9156\n",
      "Epoch 29/100\n",
      "10/10 [==============================] - 0s 701us/step - loss: 0.2174 - accuracy: 0.9156\n",
      "Epoch 30/100\n",
      "10/10 [==============================] - 0s 886us/step - loss: 0.2173 - accuracy: 0.9156\n",
      "Epoch 31/100\n",
      "10/10 [==============================] - 0s 1ms/step - loss: 0.2173 - accuracy: 0.9156\n",
      "Epoch 32/100\n",
      "10/10 [==============================] - 0s 733us/step - loss: 0.2178 - accuracy: 0.9187\n",
      "Epoch 33/100\n",
      "10/10 [==============================] - 0s 736us/step - loss: 0.2171 - accuracy: 0.9187\n",
      "Epoch 34/100\n",
      "10/10 [==============================] - 0s 904us/step - loss: 0.2172 - accuracy: 0.9156\n",
      "Epoch 35/100\n",
      "10/10 [==============================] - 0s 788us/step - loss: 0.2173 - accuracy: 0.9156\n",
      "Epoch 36/100\n",
      "10/10 [==============================] - 0s 1ms/step - loss: 0.2173 - accuracy: 0.9125\n",
      "Epoch 37/100\n",
      "10/10 [==============================] - 0s 928us/step - loss: 0.2173 - accuracy: 0.9125\n",
      "Epoch 38/100\n",
      "10/10 [==============================] - 0s 735us/step - loss: 0.2176 - accuracy: 0.9187\n",
      "Epoch 39/100\n",
      "10/10 [==============================] - 0s 836us/step - loss: 0.2173 - accuracy: 0.9156\n",
      "Epoch 40/100\n",
      "10/10 [==============================] - 0s 749us/step - loss: 0.2173 - accuracy: 0.9156\n",
      "Epoch 41/100\n",
      "10/10 [==============================] - 0s 784us/step - loss: 0.2176 - accuracy: 0.9156\n",
      "Epoch 42/100\n",
      "10/10 [==============================] - 0s 924us/step - loss: 0.2174 - accuracy: 0.9156\n",
      "Epoch 43/100\n",
      "10/10 [==============================] - 0s 723us/step - loss: 0.2174 - accuracy: 0.9156\n",
      "Epoch 44/100\n",
      "10/10 [==============================] - 0s 871us/step - loss: 0.2174 - accuracy: 0.9156\n",
      "Epoch 45/100\n",
      "10/10 [==============================] - 0s 735us/step - loss: 0.2176 - accuracy: 0.9187\n",
      "Epoch 46/100\n",
      "10/10 [==============================] - 0s 911us/step - loss: 0.2173 - accuracy: 0.9187\n",
      "Epoch 47/100\n",
      "10/10 [==============================] - 0s 918us/step - loss: 0.2171 - accuracy: 0.9187\n",
      "Epoch 48/100\n",
      "10/10 [==============================] - 0s 744us/step - loss: 0.2177 - accuracy: 0.9187\n",
      "Epoch 49/100\n",
      "10/10 [==============================] - 0s 905us/step - loss: 0.2175 - accuracy: 0.9156\n",
      "Epoch 50/100\n",
      "10/10 [==============================] - 0s 1ms/step - loss: 0.2171 - accuracy: 0.9156\n",
      "Epoch 51/100\n",
      "10/10 [==============================] - 0s 914us/step - loss: 0.2175 - accuracy: 0.9187\n",
      "Epoch 52/100\n",
      "10/10 [==============================] - 0s 1ms/step - loss: 0.2178 - accuracy: 0.9125\n",
      "Epoch 53/100\n",
      "10/10 [==============================] - 0s 1ms/step - loss: 0.2174 - accuracy: 0.9125\n",
      "Epoch 54/100\n",
      "10/10 [==============================] - 0s 1ms/step - loss: 0.2173 - accuracy: 0.9156\n",
      "Epoch 55/100\n",
      "10/10 [==============================] - 0s 2ms/step - loss: 0.2172 - accuracy: 0.9156\n",
      "Epoch 56/100\n",
      "10/10 [==============================] - 0s 3ms/step - loss: 0.2173 - accuracy: 0.9187\n",
      "Epoch 57/100\n",
      "10/10 [==============================] - 0s 2ms/step - loss: 0.2171 - accuracy: 0.9187\n",
      "Epoch 58/100\n",
      "10/10 [==============================] - 0s 4ms/step - loss: 0.2172 - accuracy: 0.9156\n",
      "Epoch 59/100\n",
      "10/10 [==============================] - 0s 2ms/step - loss: 0.2173 - accuracy: 0.9156\n",
      "Epoch 60/100\n",
      "10/10 [==============================] - 0s 1ms/step - loss: 0.2175 - accuracy: 0.9187\n",
      "Epoch 61/100\n",
      "10/10 [==============================] - 0s 874us/step - loss: 0.2173 - accuracy: 0.9187\n",
      "Epoch 62/100\n",
      "10/10 [==============================] - 0s 2ms/step - loss: 0.2173 - accuracy: 0.9187\n",
      "Epoch 63/100\n",
      "10/10 [==============================] - 0s 2ms/step - loss: 0.2176 - accuracy: 0.9125\n",
      "Epoch 64/100\n",
      "10/10 [==============================] - 0s 1ms/step - loss: 0.2174 - accuracy: 0.9156\n",
      "Epoch 65/100\n",
      "10/10 [==============================] - 0s 726us/step - loss: 0.2172 - accuracy: 0.9156\n",
      "Epoch 66/100\n",
      "10/10 [==============================] - 0s 831us/step - loss: 0.2172 - accuracy: 0.9156\n",
      "Epoch 67/100\n",
      "10/10 [==============================] - 0s 960us/step - loss: 0.2172 - accuracy: 0.9156\n",
      "Epoch 68/100\n",
      "10/10 [==============================] - 0s 713us/step - loss: 0.2173 - accuracy: 0.9156\n",
      "Epoch 69/100\n",
      "10/10 [==============================] - 0s 933us/step - loss: 0.2173 - accuracy: 0.9156\n",
      "Epoch 70/100\n",
      "10/10 [==============================] - 0s 715us/step - loss: 0.2171 - accuracy: 0.9156\n",
      "Epoch 71/100\n",
      "10/10 [==============================] - 0s 898us/step - loss: 0.2174 - accuracy: 0.9125\n",
      "Epoch 72/100\n",
      "10/10 [==============================] - 0s 981us/step - loss: 0.2175 - accuracy: 0.9125\n",
      "Epoch 73/100\n",
      "10/10 [==============================] - 0s 733us/step - loss: 0.2173 - accuracy: 0.9187\n",
      "Epoch 74/100\n",
      "10/10 [==============================] - 0s 868us/step - loss: 0.2173 - accuracy: 0.9187\n",
      "Epoch 75/100\n",
      "10/10 [==============================] - 0s 718us/step - loss: 0.2172 - accuracy: 0.9187\n",
      "Epoch 76/100\n",
      "10/10 [==============================] - 0s 871us/step - loss: 0.2173 - accuracy: 0.9156\n",
      "Epoch 77/100\n",
      "10/10 [==============================] - 0s 989us/step - loss: 0.2177 - accuracy: 0.9125\n",
      "Epoch 78/100\n",
      "10/10 [==============================] - 0s 735us/step - loss: 0.2181 - accuracy: 0.9156\n",
      "Epoch 79/100\n",
      "10/10 [==============================] - 0s 900us/step - loss: 0.2171 - accuracy: 0.9156\n",
      "Epoch 80/100\n",
      "10/10 [==============================] - 0s 1ms/step - loss: 0.2175 - accuracy: 0.9187\n",
      "Epoch 81/100\n",
      "10/10 [==============================] - 0s 711us/step - loss: 0.2171 - accuracy: 0.9187\n"
     ]
    },
    {
     "name": "stdout",
     "output_type": "stream",
     "text": [
      "Epoch 82/100\n",
      "10/10 [==============================] - 0s 1ms/step - loss: 0.2176 - accuracy: 0.9156\n",
      "Epoch 83/100\n",
      "10/10 [==============================] - 0s 994us/step - loss: 0.2173 - accuracy: 0.9125\n",
      "Epoch 84/100\n",
      "10/10 [==============================] - 0s 699us/step - loss: 0.2173 - accuracy: 0.9156\n",
      "Epoch 85/100\n",
      "10/10 [==============================] - 0s 969us/step - loss: 0.2179 - accuracy: 0.9187\n",
      "Epoch 86/100\n",
      "10/10 [==============================] - 0s 759us/step - loss: 0.2172 - accuracy: 0.9187\n",
      "Epoch 87/100\n",
      "10/10 [==============================] - 0s 790us/step - loss: 0.2174 - accuracy: 0.9156\n",
      "Epoch 88/100\n",
      "10/10 [==============================] - 0s 855us/step - loss: 0.2172 - accuracy: 0.9156\n",
      "Epoch 89/100\n",
      "10/10 [==============================] - 0s 736us/step - loss: 0.2173 - accuracy: 0.9187\n",
      "Epoch 90/100\n",
      "10/10 [==============================] - 0s 857us/step - loss: 0.2172 - accuracy: 0.9156\n",
      "Epoch 91/100\n",
      "10/10 [==============================] - 0s 681us/step - loss: 0.2172 - accuracy: 0.9156\n",
      "Epoch 92/100\n",
      "10/10 [==============================] - 0s 830us/step - loss: 0.2176 - accuracy: 0.9187\n",
      "Epoch 93/100\n",
      "10/10 [==============================] - 0s 772us/step - loss: 0.2170 - accuracy: 0.9187\n",
      "Epoch 94/100\n",
      "10/10 [==============================] - 0s 726us/step - loss: 0.2170 - accuracy: 0.9187\n",
      "Epoch 95/100\n",
      "10/10 [==============================] - 0s 942us/step - loss: 0.2171 - accuracy: 0.9187\n",
      "Epoch 96/100\n",
      "10/10 [==============================] - 0s 753us/step - loss: 0.2173 - accuracy: 0.9156\n",
      "Epoch 97/100\n",
      "10/10 [==============================] - 0s 735us/step - loss: 0.2170 - accuracy: 0.9156\n",
      "Epoch 98/100\n",
      "10/10 [==============================] - 0s 878us/step - loss: 0.2172 - accuracy: 0.9156\n",
      "Epoch 99/100\n",
      "10/10 [==============================] - 0s 695us/step - loss: 0.2174 - accuracy: 0.9187\n",
      "Epoch 100/100\n",
      "10/10 [==============================] - 0s 833us/step - loss: 0.2170 - accuracy: 0.9156\n"
     ]
    },
    {
     "data": {
      "text/plain": [
       "<keras.src.callbacks.History at 0x17ec4d290>"
      ]
     },
     "execution_count": 15,
     "metadata": {},
     "output_type": "execute_result"
    }
   ],
   "source": [
    "ann.fit(X_train, y_train, batch_size = 32, epochs = 100)"
   ]
  },
  {
   "cell_type": "markdown",
   "metadata": {
    "id": "u7yx47jPZt11"
   },
   "source": [
    "### Predicting the Test set results"
   ]
  },
  {
   "cell_type": "code",
   "execution_count": 16,
   "metadata": {
    "colab": {
     "base_uri": "https://localhost:8080/",
     "height": 137
    },
    "id": "nIyEeQdRZwgs",
    "outputId": "82330ba8-9bdc-4fd1-d3cf-b6d78ee7c2a3",
    "scrolled": true
   },
   "outputs": [
    {
     "name": "stdout",
     "output_type": "stream",
     "text": [
      "3/3 [==============================] - 0s 3ms/step\n",
      "[[0 0]\n",
      " [0 0]\n",
      " [0 0]\n",
      " [0 0]\n",
      " [0 0]\n",
      " [0 0]\n",
      " [0 0]\n",
      " [1 1]\n",
      " [0 0]\n",
      " [1 0]\n",
      " [0 0]\n",
      " [0 0]\n",
      " [0 0]\n",
      " [0 0]\n",
      " [0 0]\n",
      " [1 0]\n",
      " [0 0]\n",
      " [0 0]\n",
      " [1 1]\n",
      " [0 0]\n",
      " [0 0]\n",
      " [1 1]\n",
      " [0 0]\n",
      " [1 1]\n",
      " [0 0]\n",
      " [1 1]\n",
      " [0 0]\n",
      " [0 0]\n",
      " [0 0]\n",
      " [0 0]\n",
      " [0 0]\n",
      " [0 1]\n",
      " [1 1]\n",
      " [0 0]\n",
      " [0 0]\n",
      " [0 0]\n",
      " [0 0]\n",
      " [0 0]\n",
      " [0 0]\n",
      " [1 1]\n",
      " [0 0]\n",
      " [0 0]\n",
      " [0 0]\n",
      " [0 0]\n",
      " [1 1]\n",
      " [0 0]\n",
      " [0 0]\n",
      " [1 1]\n",
      " [0 0]\n",
      " [1 1]\n",
      " [1 1]\n",
      " [0 0]\n",
      " [0 0]\n",
      " [1 0]\n",
      " [1 1]\n",
      " [1 1]\n",
      " [0 0]\n",
      " [0 0]\n",
      " [1 1]\n",
      " [0 0]\n",
      " [0 0]\n",
      " [1 1]\n",
      " [0 0]\n",
      " [1 1]\n",
      " [0 0]\n",
      " [1 1]\n",
      " [0 0]\n",
      " [0 0]\n",
      " [0 0]\n",
      " [0 0]\n",
      " [1 1]\n",
      " [0 0]\n",
      " [0 0]\n",
      " [1 1]\n",
      " [0 0]\n",
      " [0 0]\n",
      " [0 0]\n",
      " [0 0]\n",
      " [1 1]\n",
      " [1 1]]\n"
     ]
    }
   ],
   "source": [
    "y_pred = ann.predict(X_test)\n",
    "y_pred = (y_pred > 0.5)\n",
    "print(np.concatenate((y_pred.reshape(len(y_pred),1), y_test.reshape(len(y_test),1)),1))"
   ]
  },
  {
   "cell_type": "markdown",
   "metadata": {
    "id": "o0oyfLWoaEGw"
   },
   "source": [
    "### Making the Confusion Matrix"
   ]
  },
  {
   "cell_type": "code",
   "execution_count": 17,
   "metadata": {
    "colab": {
     "base_uri": "https://localhost:8080/",
     "height": 68
    },
    "id": "ci6K_r6LaF6P",
    "outputId": "4d854e9e-22d5-432f-f6e5-a102fe3ae0bd"
   },
   "outputs": [
    {
     "name": "stdout",
     "output_type": "stream",
     "text": [
      "[[55  3]\n",
      " [ 1 21]]\n"
     ]
    },
    {
     "data": {
      "text/plain": [
       "0.95"
      ]
     },
     "execution_count": 17,
     "metadata": {},
     "output_type": "execute_result"
    }
   ],
   "source": [
    "from sklearn.metrics import confusion_matrix, accuracy_score\n",
    "cm = confusion_matrix(y_test, y_pred)\n",
    "print(cm)\n",
    "accuracy_score(y_test, y_pred)"
   ]
  }
 ],
 "metadata": {
  "colab": {
   "provenance": [],
   "toc_visible": true
  },
  "kernelspec": {
   "display_name": "Python 3 (ipykernel)",
   "language": "python",
   "name": "python3"
  },
  "language_info": {
   "codemirror_mode": {
    "name": "ipython",
    "version": 3
   },
   "file_extension": ".py",
   "mimetype": "text/x-python",
   "name": "python",
   "nbconvert_exporter": "python",
   "pygments_lexer": "ipython3",
   "version": "3.11.4"
  }
 },
 "nbformat": 4,
 "nbformat_minor": 1
}
