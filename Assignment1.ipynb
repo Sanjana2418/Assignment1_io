{
  "nbformat": 4,
  "nbformat_minor": 0,
  "metadata": {
    "colab": {
      "provenance": [],
      "toc_visible": true
    },
    "kernelspec": {
      "name": "python3",
      "display_name": "Python 3"
    },
    "language_info": {
      "name": "python"
    }
  },
  "cells": [
    {
      "cell_type": "code",
      "execution_count": 1,
      "metadata": {
        "id": "7j4ArGVQTPqc"
      },
      "outputs": [],
      "source": [
        "import numpy as np\n",
        "import matplotlib.pyplot as plt\n",
        "import pandas as pd"
      ]
    },
    {
      "cell_type": "code",
      "source": [
        "dataset = pd.read_csv('SwedishMotorInsurance.csv')\n",
        "dataset\n",
        "X = dataset.iloc[:, :-1].values\n",
        "y = dataset.iloc[:, -1].values"
      ],
      "metadata": {
        "id": "raEq2Cn9VEsJ"
      },
      "execution_count": 3,
      "outputs": []
    },
    {
      "cell_type": "code",
      "source": [
        "dataset"
      ],
      "metadata": {
        "colab": {
          "base_uri": "https://localhost:8080/",
          "height": 423
        },
        "id": "Ex1eeL4RV56S",
        "outputId": "dfe6d354-b181-42ea-9b57-cc3e481da3ce"
      },
      "execution_count": 4,
      "outputs": [
        {
          "output_type": "execute_result",
          "data": {
            "text/plain": [
              "      Kilometres  Zone  Bonus  Make  Insured  Claims  Payment\n",
              "0              1     1      1     1   455.13     108   392491\n",
              "1              1     1      1     2    69.17      19    46221\n",
              "2              1     1      1     3    72.88      13    15694\n",
              "3              1     1      1     4  1292.39     124   422201\n",
              "4              1     1      1     5   191.01      40   119373\n",
              "...          ...   ...    ...   ...      ...     ...      ...\n",
              "2177           5     7      7     5     8.74       0        0\n",
              "2178           5     7      7     6    16.61       0        0\n",
              "2179           5     7      7     7     2.83       1      966\n",
              "2180           5     7      7     8    13.06       0        0\n",
              "2181           5     7      7     9   384.87      16   112252\n",
              "\n",
              "[2182 rows x 7 columns]"
            ],
            "text/html": [
              "\n",
              "  <div id=\"df-f2c75389-086d-48c7-92ff-17cbf1398219\" class=\"colab-df-container\">\n",
              "    <div>\n",
              "<style scoped>\n",
              "    .dataframe tbody tr th:only-of-type {\n",
              "        vertical-align: middle;\n",
              "    }\n",
              "\n",
              "    .dataframe tbody tr th {\n",
              "        vertical-align: top;\n",
              "    }\n",
              "\n",
              "    .dataframe thead th {\n",
              "        text-align: right;\n",
              "    }\n",
              "</style>\n",
              "<table border=\"1\" class=\"dataframe\">\n",
              "  <thead>\n",
              "    <tr style=\"text-align: right;\">\n",
              "      <th></th>\n",
              "      <th>Kilometres</th>\n",
              "      <th>Zone</th>\n",
              "      <th>Bonus</th>\n",
              "      <th>Make</th>\n",
              "      <th>Insured</th>\n",
              "      <th>Claims</th>\n",
              "      <th>Payment</th>\n",
              "    </tr>\n",
              "  </thead>\n",
              "  <tbody>\n",
              "    <tr>\n",
              "      <th>0</th>\n",
              "      <td>1</td>\n",
              "      <td>1</td>\n",
              "      <td>1</td>\n",
              "      <td>1</td>\n",
              "      <td>455.13</td>\n",
              "      <td>108</td>\n",
              "      <td>392491</td>\n",
              "    </tr>\n",
              "    <tr>\n",
              "      <th>1</th>\n",
              "      <td>1</td>\n",
              "      <td>1</td>\n",
              "      <td>1</td>\n",
              "      <td>2</td>\n",
              "      <td>69.17</td>\n",
              "      <td>19</td>\n",
              "      <td>46221</td>\n",
              "    </tr>\n",
              "    <tr>\n",
              "      <th>2</th>\n",
              "      <td>1</td>\n",
              "      <td>1</td>\n",
              "      <td>1</td>\n",
              "      <td>3</td>\n",
              "      <td>72.88</td>\n",
              "      <td>13</td>\n",
              "      <td>15694</td>\n",
              "    </tr>\n",
              "    <tr>\n",
              "      <th>3</th>\n",
              "      <td>1</td>\n",
              "      <td>1</td>\n",
              "      <td>1</td>\n",
              "      <td>4</td>\n",
              "      <td>1292.39</td>\n",
              "      <td>124</td>\n",
              "      <td>422201</td>\n",
              "    </tr>\n",
              "    <tr>\n",
              "      <th>4</th>\n",
              "      <td>1</td>\n",
              "      <td>1</td>\n",
              "      <td>1</td>\n",
              "      <td>5</td>\n",
              "      <td>191.01</td>\n",
              "      <td>40</td>\n",
              "      <td>119373</td>\n",
              "    </tr>\n",
              "    <tr>\n",
              "      <th>...</th>\n",
              "      <td>...</td>\n",
              "      <td>...</td>\n",
              "      <td>...</td>\n",
              "      <td>...</td>\n",
              "      <td>...</td>\n",
              "      <td>...</td>\n",
              "      <td>...</td>\n",
              "    </tr>\n",
              "    <tr>\n",
              "      <th>2177</th>\n",
              "      <td>5</td>\n",
              "      <td>7</td>\n",
              "      <td>7</td>\n",
              "      <td>5</td>\n",
              "      <td>8.74</td>\n",
              "      <td>0</td>\n",
              "      <td>0</td>\n",
              "    </tr>\n",
              "    <tr>\n",
              "      <th>2178</th>\n",
              "      <td>5</td>\n",
              "      <td>7</td>\n",
              "      <td>7</td>\n",
              "      <td>6</td>\n",
              "      <td>16.61</td>\n",
              "      <td>0</td>\n",
              "      <td>0</td>\n",
              "    </tr>\n",
              "    <tr>\n",
              "      <th>2179</th>\n",
              "      <td>5</td>\n",
              "      <td>7</td>\n",
              "      <td>7</td>\n",
              "      <td>7</td>\n",
              "      <td>2.83</td>\n",
              "      <td>1</td>\n",
              "      <td>966</td>\n",
              "    </tr>\n",
              "    <tr>\n",
              "      <th>2180</th>\n",
              "      <td>5</td>\n",
              "      <td>7</td>\n",
              "      <td>7</td>\n",
              "      <td>8</td>\n",
              "      <td>13.06</td>\n",
              "      <td>0</td>\n",
              "      <td>0</td>\n",
              "    </tr>\n",
              "    <tr>\n",
              "      <th>2181</th>\n",
              "      <td>5</td>\n",
              "      <td>7</td>\n",
              "      <td>7</td>\n",
              "      <td>9</td>\n",
              "      <td>384.87</td>\n",
              "      <td>16</td>\n",
              "      <td>112252</td>\n",
              "    </tr>\n",
              "  </tbody>\n",
              "</table>\n",
              "<p>2182 rows × 7 columns</p>\n",
              "</div>\n",
              "    <div class=\"colab-df-buttons\">\n",
              "\n",
              "  <div class=\"colab-df-container\">\n",
              "    <button class=\"colab-df-convert\" onclick=\"convertToInteractive('df-f2c75389-086d-48c7-92ff-17cbf1398219')\"\n",
              "            title=\"Convert this dataframe to an interactive table.\"\n",
              "            style=\"display:none;\">\n",
              "\n",
              "  <svg xmlns=\"http://www.w3.org/2000/svg\" height=\"24px\" viewBox=\"0 -960 960 960\">\n",
              "    <path d=\"M120-120v-720h720v720H120Zm60-500h600v-160H180v160Zm220 220h160v-160H400v160Zm0 220h160v-160H400v160ZM180-400h160v-160H180v160Zm440 0h160v-160H620v160ZM180-180h160v-160H180v160Zm440 0h160v-160H620v160Z\"/>\n",
              "  </svg>\n",
              "    </button>\n",
              "\n",
              "  <style>\n",
              "    .colab-df-container {\n",
              "      display:flex;\n",
              "      gap: 12px;\n",
              "    }\n",
              "\n",
              "    .colab-df-convert {\n",
              "      background-color: #E8F0FE;\n",
              "      border: none;\n",
              "      border-radius: 50%;\n",
              "      cursor: pointer;\n",
              "      display: none;\n",
              "      fill: #1967D2;\n",
              "      height: 32px;\n",
              "      padding: 0 0 0 0;\n",
              "      width: 32px;\n",
              "    }\n",
              "\n",
              "    .colab-df-convert:hover {\n",
              "      background-color: #E2EBFA;\n",
              "      box-shadow: 0px 1px 2px rgba(60, 64, 67, 0.3), 0px 1px 3px 1px rgba(60, 64, 67, 0.15);\n",
              "      fill: #174EA6;\n",
              "    }\n",
              "\n",
              "    .colab-df-buttons div {\n",
              "      margin-bottom: 4px;\n",
              "    }\n",
              "\n",
              "    [theme=dark] .colab-df-convert {\n",
              "      background-color: #3B4455;\n",
              "      fill: #D2E3FC;\n",
              "    }\n",
              "\n",
              "    [theme=dark] .colab-df-convert:hover {\n",
              "      background-color: #434B5C;\n",
              "      box-shadow: 0px 1px 3px 1px rgba(0, 0, 0, 0.15);\n",
              "      filter: drop-shadow(0px 1px 2px rgba(0, 0, 0, 0.3));\n",
              "      fill: #FFFFFF;\n",
              "    }\n",
              "  </style>\n",
              "\n",
              "    <script>\n",
              "      const buttonEl =\n",
              "        document.querySelector('#df-f2c75389-086d-48c7-92ff-17cbf1398219 button.colab-df-convert');\n",
              "      buttonEl.style.display =\n",
              "        google.colab.kernel.accessAllowed ? 'block' : 'none';\n",
              "\n",
              "      async function convertToInteractive(key) {\n",
              "        const element = document.querySelector('#df-f2c75389-086d-48c7-92ff-17cbf1398219');\n",
              "        const dataTable =\n",
              "          await google.colab.kernel.invokeFunction('convertToInteractive',\n",
              "                                                    [key], {});\n",
              "        if (!dataTable) return;\n",
              "\n",
              "        const docLinkHtml = 'Like what you see? Visit the ' +\n",
              "          '<a target=\"_blank\" href=https://colab.research.google.com/notebooks/data_table.ipynb>data table notebook</a>'\n",
              "          + ' to learn more about interactive tables.';\n",
              "        element.innerHTML = '';\n",
              "        dataTable['output_type'] = 'display_data';\n",
              "        await google.colab.output.renderOutput(dataTable, element);\n",
              "        const docLink = document.createElement('div');\n",
              "        docLink.innerHTML = docLinkHtml;\n",
              "        element.appendChild(docLink);\n",
              "      }\n",
              "    </script>\n",
              "  </div>\n",
              "\n",
              "\n",
              "<div id=\"df-33b3bb26-974a-440e-94a4-973d1f948f8a\">\n",
              "  <button class=\"colab-df-quickchart\" onclick=\"quickchart('df-33b3bb26-974a-440e-94a4-973d1f948f8a')\"\n",
              "            title=\"Suggest charts.\"\n",
              "            style=\"display:none;\">\n",
              "\n",
              "<svg xmlns=\"http://www.w3.org/2000/svg\" height=\"24px\"viewBox=\"0 0 24 24\"\n",
              "     width=\"24px\">\n",
              "    <g>\n",
              "        <path d=\"M19 3H5c-1.1 0-2 .9-2 2v14c0 1.1.9 2 2 2h14c1.1 0 2-.9 2-2V5c0-1.1-.9-2-2-2zM9 17H7v-7h2v7zm4 0h-2V7h2v10zm4 0h-2v-4h2v4z\"/>\n",
              "    </g>\n",
              "</svg>\n",
              "  </button>\n",
              "\n",
              "<style>\n",
              "  .colab-df-quickchart {\n",
              "      --bg-color: #E8F0FE;\n",
              "      --fill-color: #1967D2;\n",
              "      --hover-bg-color: #E2EBFA;\n",
              "      --hover-fill-color: #174EA6;\n",
              "      --disabled-fill-color: #AAA;\n",
              "      --disabled-bg-color: #DDD;\n",
              "  }\n",
              "\n",
              "  [theme=dark] .colab-df-quickchart {\n",
              "      --bg-color: #3B4455;\n",
              "      --fill-color: #D2E3FC;\n",
              "      --hover-bg-color: #434B5C;\n",
              "      --hover-fill-color: #FFFFFF;\n",
              "      --disabled-bg-color: #3B4455;\n",
              "      --disabled-fill-color: #666;\n",
              "  }\n",
              "\n",
              "  .colab-df-quickchart {\n",
              "    background-color: var(--bg-color);\n",
              "    border: none;\n",
              "    border-radius: 50%;\n",
              "    cursor: pointer;\n",
              "    display: none;\n",
              "    fill: var(--fill-color);\n",
              "    height: 32px;\n",
              "    padding: 0;\n",
              "    width: 32px;\n",
              "  }\n",
              "\n",
              "  .colab-df-quickchart:hover {\n",
              "    background-color: var(--hover-bg-color);\n",
              "    box-shadow: 0 1px 2px rgba(60, 64, 67, 0.3), 0 1px 3px 1px rgba(60, 64, 67, 0.15);\n",
              "    fill: var(--button-hover-fill-color);\n",
              "  }\n",
              "\n",
              "  .colab-df-quickchart-complete:disabled,\n",
              "  .colab-df-quickchart-complete:disabled:hover {\n",
              "    background-color: var(--disabled-bg-color);\n",
              "    fill: var(--disabled-fill-color);\n",
              "    box-shadow: none;\n",
              "  }\n",
              "\n",
              "  .colab-df-spinner {\n",
              "    border: 2px solid var(--fill-color);\n",
              "    border-color: transparent;\n",
              "    border-bottom-color: var(--fill-color);\n",
              "    animation:\n",
              "      spin 1s steps(1) infinite;\n",
              "  }\n",
              "\n",
              "  @keyframes spin {\n",
              "    0% {\n",
              "      border-color: transparent;\n",
              "      border-bottom-color: var(--fill-color);\n",
              "      border-left-color: var(--fill-color);\n",
              "    }\n",
              "    20% {\n",
              "      border-color: transparent;\n",
              "      border-left-color: var(--fill-color);\n",
              "      border-top-color: var(--fill-color);\n",
              "    }\n",
              "    30% {\n",
              "      border-color: transparent;\n",
              "      border-left-color: var(--fill-color);\n",
              "      border-top-color: var(--fill-color);\n",
              "      border-right-color: var(--fill-color);\n",
              "    }\n",
              "    40% {\n",
              "      border-color: transparent;\n",
              "      border-right-color: var(--fill-color);\n",
              "      border-top-color: var(--fill-color);\n",
              "    }\n",
              "    60% {\n",
              "      border-color: transparent;\n",
              "      border-right-color: var(--fill-color);\n",
              "    }\n",
              "    80% {\n",
              "      border-color: transparent;\n",
              "      border-right-color: var(--fill-color);\n",
              "      border-bottom-color: var(--fill-color);\n",
              "    }\n",
              "    90% {\n",
              "      border-color: transparent;\n",
              "      border-bottom-color: var(--fill-color);\n",
              "    }\n",
              "  }\n",
              "</style>\n",
              "\n",
              "  <script>\n",
              "    async function quickchart(key) {\n",
              "      const quickchartButtonEl =\n",
              "        document.querySelector('#' + key + ' button');\n",
              "      quickchartButtonEl.disabled = true;  // To prevent multiple clicks.\n",
              "      quickchartButtonEl.classList.add('colab-df-spinner');\n",
              "      try {\n",
              "        const charts = await google.colab.kernel.invokeFunction(\n",
              "            'suggestCharts', [key], {});\n",
              "      } catch (error) {\n",
              "        console.error('Error during call to suggestCharts:', error);\n",
              "      }\n",
              "      quickchartButtonEl.classList.remove('colab-df-spinner');\n",
              "      quickchartButtonEl.classList.add('colab-df-quickchart-complete');\n",
              "    }\n",
              "    (() => {\n",
              "      let quickchartButtonEl =\n",
              "        document.querySelector('#df-33b3bb26-974a-440e-94a4-973d1f948f8a button');\n",
              "      quickchartButtonEl.style.display =\n",
              "        google.colab.kernel.accessAllowed ? 'block' : 'none';\n",
              "    })();\n",
              "  </script>\n",
              "</div>\n",
              "    </div>\n",
              "  </div>\n"
            ]
          },
          "metadata": {},
          "execution_count": 4
        }
      ]
    },
    {
      "cell_type": "code",
      "source": [
        "print(X)"
      ],
      "metadata": {
        "colab": {
          "base_uri": "https://localhost:8080/"
        },
        "id": "zm1n9yY9VcMK",
        "outputId": "0254bd5a-472e-4199-b5e8-ecf80f218b98"
      },
      "execution_count": 5,
      "outputs": [
        {
          "output_type": "stream",
          "name": "stdout",
          "text": [
            "[[  1.     1.     1.     1.   455.13 108.  ]\n",
            " [  1.     1.     1.     2.    69.17  19.  ]\n",
            " [  1.     1.     1.     3.    72.88  13.  ]\n",
            " ...\n",
            " [  5.     7.     7.     7.     2.83   1.  ]\n",
            " [  5.     7.     7.     8.    13.06   0.  ]\n",
            " [  5.     7.     7.     9.   384.87  16.  ]]\n"
          ]
        }
      ]
    },
    {
      "cell_type": "code",
      "source": [
        "print(y)"
      ],
      "metadata": {
        "colab": {
          "base_uri": "https://localhost:8080/"
        },
        "id": "S5eh2nFhVgWF",
        "outputId": "4e4c53d1-4971-4bd5-d06a-f209580f932a"
      },
      "execution_count": 6,
      "outputs": [
        {
          "output_type": "stream",
          "name": "stdout",
          "text": [
            "[392491  46221  15694 ...    966      0 112252]\n"
          ]
        }
      ]
    },
    {
      "cell_type": "code",
      "source": [
        "from sklearn.impute import SimpleImputer\n",
        "imputer = SimpleImputer(strategy='mean', missing_values=0)\n",
        "imputer = imputer.fit(dataset[['Payment']])\n",
        "dataset['Payment'] = imputer.transform(dataset[['Payment']])\n",
        "imputer = imputer.fit(dataset[['Claims']])\n",
        "dataset['Claims'] = imputer.transform(dataset[['Claims']])\n",
        "dataset"
      ],
      "metadata": {
        "colab": {
          "base_uri": "https://localhost:8080/",
          "height": 423
        },
        "id": "Uh7Ju3FKWuIG",
        "outputId": "439b8d44-6902-4e47-dd58-8fd6958ead1a"
      },
      "execution_count": 7,
      "outputs": [
        {
          "output_type": "execute_result",
          "data": {
            "text/plain": [
              "      Kilometres  Zone  Bonus  Make  Insured      Claims        Payment\n",
              "0              1     1      1     1   455.13  108.000000  392491.000000\n",
              "1              1     1      1     2    69.17   19.000000   46221.000000\n",
              "2              1     1      1     3    72.88   13.000000   15694.000000\n",
              "3              1     1      1     4  1292.39  124.000000  422201.000000\n",
              "4              1     1      1     5   191.01   40.000000  119373.000000\n",
              "...          ...   ...    ...   ...      ...         ...            ...\n",
              "2177           5     7      7     5     8.74   62.977741  312070.495826\n",
              "2178           5     7      7     6    16.61   62.977741  312070.495826\n",
              "2179           5     7      7     7     2.83    1.000000     966.000000\n",
              "2180           5     7      7     8    13.06   62.977741  312070.495826\n",
              "2181           5     7      7     9   384.87   16.000000  112252.000000\n",
              "\n",
              "[2182 rows x 7 columns]"
            ],
            "text/html": [
              "\n",
              "  <div id=\"df-675480c2-e942-4fec-8efb-cb039ef515ff\" class=\"colab-df-container\">\n",
              "    <div>\n",
              "<style scoped>\n",
              "    .dataframe tbody tr th:only-of-type {\n",
              "        vertical-align: middle;\n",
              "    }\n",
              "\n",
              "    .dataframe tbody tr th {\n",
              "        vertical-align: top;\n",
              "    }\n",
              "\n",
              "    .dataframe thead th {\n",
              "        text-align: right;\n",
              "    }\n",
              "</style>\n",
              "<table border=\"1\" class=\"dataframe\">\n",
              "  <thead>\n",
              "    <tr style=\"text-align: right;\">\n",
              "      <th></th>\n",
              "      <th>Kilometres</th>\n",
              "      <th>Zone</th>\n",
              "      <th>Bonus</th>\n",
              "      <th>Make</th>\n",
              "      <th>Insured</th>\n",
              "      <th>Claims</th>\n",
              "      <th>Payment</th>\n",
              "    </tr>\n",
              "  </thead>\n",
              "  <tbody>\n",
              "    <tr>\n",
              "      <th>0</th>\n",
              "      <td>1</td>\n",
              "      <td>1</td>\n",
              "      <td>1</td>\n",
              "      <td>1</td>\n",
              "      <td>455.13</td>\n",
              "      <td>108.000000</td>\n",
              "      <td>392491.000000</td>\n",
              "    </tr>\n",
              "    <tr>\n",
              "      <th>1</th>\n",
              "      <td>1</td>\n",
              "      <td>1</td>\n",
              "      <td>1</td>\n",
              "      <td>2</td>\n",
              "      <td>69.17</td>\n",
              "      <td>19.000000</td>\n",
              "      <td>46221.000000</td>\n",
              "    </tr>\n",
              "    <tr>\n",
              "      <th>2</th>\n",
              "      <td>1</td>\n",
              "      <td>1</td>\n",
              "      <td>1</td>\n",
              "      <td>3</td>\n",
              "      <td>72.88</td>\n",
              "      <td>13.000000</td>\n",
              "      <td>15694.000000</td>\n",
              "    </tr>\n",
              "    <tr>\n",
              "      <th>3</th>\n",
              "      <td>1</td>\n",
              "      <td>1</td>\n",
              "      <td>1</td>\n",
              "      <td>4</td>\n",
              "      <td>1292.39</td>\n",
              "      <td>124.000000</td>\n",
              "      <td>422201.000000</td>\n",
              "    </tr>\n",
              "    <tr>\n",
              "      <th>4</th>\n",
              "      <td>1</td>\n",
              "      <td>1</td>\n",
              "      <td>1</td>\n",
              "      <td>5</td>\n",
              "      <td>191.01</td>\n",
              "      <td>40.000000</td>\n",
              "      <td>119373.000000</td>\n",
              "    </tr>\n",
              "    <tr>\n",
              "      <th>...</th>\n",
              "      <td>...</td>\n",
              "      <td>...</td>\n",
              "      <td>...</td>\n",
              "      <td>...</td>\n",
              "      <td>...</td>\n",
              "      <td>...</td>\n",
              "      <td>...</td>\n",
              "    </tr>\n",
              "    <tr>\n",
              "      <th>2177</th>\n",
              "      <td>5</td>\n",
              "      <td>7</td>\n",
              "      <td>7</td>\n",
              "      <td>5</td>\n",
              "      <td>8.74</td>\n",
              "      <td>62.977741</td>\n",
              "      <td>312070.495826</td>\n",
              "    </tr>\n",
              "    <tr>\n",
              "      <th>2178</th>\n",
              "      <td>5</td>\n",
              "      <td>7</td>\n",
              "      <td>7</td>\n",
              "      <td>6</td>\n",
              "      <td>16.61</td>\n",
              "      <td>62.977741</td>\n",
              "      <td>312070.495826</td>\n",
              "    </tr>\n",
              "    <tr>\n",
              "      <th>2179</th>\n",
              "      <td>5</td>\n",
              "      <td>7</td>\n",
              "      <td>7</td>\n",
              "      <td>7</td>\n",
              "      <td>2.83</td>\n",
              "      <td>1.000000</td>\n",
              "      <td>966.000000</td>\n",
              "    </tr>\n",
              "    <tr>\n",
              "      <th>2180</th>\n",
              "      <td>5</td>\n",
              "      <td>7</td>\n",
              "      <td>7</td>\n",
              "      <td>8</td>\n",
              "      <td>13.06</td>\n",
              "      <td>62.977741</td>\n",
              "      <td>312070.495826</td>\n",
              "    </tr>\n",
              "    <tr>\n",
              "      <th>2181</th>\n",
              "      <td>5</td>\n",
              "      <td>7</td>\n",
              "      <td>7</td>\n",
              "      <td>9</td>\n",
              "      <td>384.87</td>\n",
              "      <td>16.000000</td>\n",
              "      <td>112252.000000</td>\n",
              "    </tr>\n",
              "  </tbody>\n",
              "</table>\n",
              "<p>2182 rows × 7 columns</p>\n",
              "</div>\n",
              "    <div class=\"colab-df-buttons\">\n",
              "\n",
              "  <div class=\"colab-df-container\">\n",
              "    <button class=\"colab-df-convert\" onclick=\"convertToInteractive('df-675480c2-e942-4fec-8efb-cb039ef515ff')\"\n",
              "            title=\"Convert this dataframe to an interactive table.\"\n",
              "            style=\"display:none;\">\n",
              "\n",
              "  <svg xmlns=\"http://www.w3.org/2000/svg\" height=\"24px\" viewBox=\"0 -960 960 960\">\n",
              "    <path d=\"M120-120v-720h720v720H120Zm60-500h600v-160H180v160Zm220 220h160v-160H400v160Zm0 220h160v-160H400v160ZM180-400h160v-160H180v160Zm440 0h160v-160H620v160ZM180-180h160v-160H180v160Zm440 0h160v-160H620v160Z\"/>\n",
              "  </svg>\n",
              "    </button>\n",
              "\n",
              "  <style>\n",
              "    .colab-df-container {\n",
              "      display:flex;\n",
              "      gap: 12px;\n",
              "    }\n",
              "\n",
              "    .colab-df-convert {\n",
              "      background-color: #E8F0FE;\n",
              "      border: none;\n",
              "      border-radius: 50%;\n",
              "      cursor: pointer;\n",
              "      display: none;\n",
              "      fill: #1967D2;\n",
              "      height: 32px;\n",
              "      padding: 0 0 0 0;\n",
              "      width: 32px;\n",
              "    }\n",
              "\n",
              "    .colab-df-convert:hover {\n",
              "      background-color: #E2EBFA;\n",
              "      box-shadow: 0px 1px 2px rgba(60, 64, 67, 0.3), 0px 1px 3px 1px rgba(60, 64, 67, 0.15);\n",
              "      fill: #174EA6;\n",
              "    }\n",
              "\n",
              "    .colab-df-buttons div {\n",
              "      margin-bottom: 4px;\n",
              "    }\n",
              "\n",
              "    [theme=dark] .colab-df-convert {\n",
              "      background-color: #3B4455;\n",
              "      fill: #D2E3FC;\n",
              "    }\n",
              "\n",
              "    [theme=dark] .colab-df-convert:hover {\n",
              "      background-color: #434B5C;\n",
              "      box-shadow: 0px 1px 3px 1px rgba(0, 0, 0, 0.15);\n",
              "      filter: drop-shadow(0px 1px 2px rgba(0, 0, 0, 0.3));\n",
              "      fill: #FFFFFF;\n",
              "    }\n",
              "  </style>\n",
              "\n",
              "    <script>\n",
              "      const buttonEl =\n",
              "        document.querySelector('#df-675480c2-e942-4fec-8efb-cb039ef515ff button.colab-df-convert');\n",
              "      buttonEl.style.display =\n",
              "        google.colab.kernel.accessAllowed ? 'block' : 'none';\n",
              "\n",
              "      async function convertToInteractive(key) {\n",
              "        const element = document.querySelector('#df-675480c2-e942-4fec-8efb-cb039ef515ff');\n",
              "        const dataTable =\n",
              "          await google.colab.kernel.invokeFunction('convertToInteractive',\n",
              "                                                    [key], {});\n",
              "        if (!dataTable) return;\n",
              "\n",
              "        const docLinkHtml = 'Like what you see? Visit the ' +\n",
              "          '<a target=\"_blank\" href=https://colab.research.google.com/notebooks/data_table.ipynb>data table notebook</a>'\n",
              "          + ' to learn more about interactive tables.';\n",
              "        element.innerHTML = '';\n",
              "        dataTable['output_type'] = 'display_data';\n",
              "        await google.colab.output.renderOutput(dataTable, element);\n",
              "        const docLink = document.createElement('div');\n",
              "        docLink.innerHTML = docLinkHtml;\n",
              "        element.appendChild(docLink);\n",
              "      }\n",
              "    </script>\n",
              "  </div>\n",
              "\n",
              "\n",
              "<div id=\"df-c7b21edd-c43c-4775-ba05-6bbf2302c359\">\n",
              "  <button class=\"colab-df-quickchart\" onclick=\"quickchart('df-c7b21edd-c43c-4775-ba05-6bbf2302c359')\"\n",
              "            title=\"Suggest charts.\"\n",
              "            style=\"display:none;\">\n",
              "\n",
              "<svg xmlns=\"http://www.w3.org/2000/svg\" height=\"24px\"viewBox=\"0 0 24 24\"\n",
              "     width=\"24px\">\n",
              "    <g>\n",
              "        <path d=\"M19 3H5c-1.1 0-2 .9-2 2v14c0 1.1.9 2 2 2h14c1.1 0 2-.9 2-2V5c0-1.1-.9-2-2-2zM9 17H7v-7h2v7zm4 0h-2V7h2v10zm4 0h-2v-4h2v4z\"/>\n",
              "    </g>\n",
              "</svg>\n",
              "  </button>\n",
              "\n",
              "<style>\n",
              "  .colab-df-quickchart {\n",
              "      --bg-color: #E8F0FE;\n",
              "      --fill-color: #1967D2;\n",
              "      --hover-bg-color: #E2EBFA;\n",
              "      --hover-fill-color: #174EA6;\n",
              "      --disabled-fill-color: #AAA;\n",
              "      --disabled-bg-color: #DDD;\n",
              "  }\n",
              "\n",
              "  [theme=dark] .colab-df-quickchart {\n",
              "      --bg-color: #3B4455;\n",
              "      --fill-color: #D2E3FC;\n",
              "      --hover-bg-color: #434B5C;\n",
              "      --hover-fill-color: #FFFFFF;\n",
              "      --disabled-bg-color: #3B4455;\n",
              "      --disabled-fill-color: #666;\n",
              "  }\n",
              "\n",
              "  .colab-df-quickchart {\n",
              "    background-color: var(--bg-color);\n",
              "    border: none;\n",
              "    border-radius: 50%;\n",
              "    cursor: pointer;\n",
              "    display: none;\n",
              "    fill: var(--fill-color);\n",
              "    height: 32px;\n",
              "    padding: 0;\n",
              "    width: 32px;\n",
              "  }\n",
              "\n",
              "  .colab-df-quickchart:hover {\n",
              "    background-color: var(--hover-bg-color);\n",
              "    box-shadow: 0 1px 2px rgba(60, 64, 67, 0.3), 0 1px 3px 1px rgba(60, 64, 67, 0.15);\n",
              "    fill: var(--button-hover-fill-color);\n",
              "  }\n",
              "\n",
              "  .colab-df-quickchart-complete:disabled,\n",
              "  .colab-df-quickchart-complete:disabled:hover {\n",
              "    background-color: var(--disabled-bg-color);\n",
              "    fill: var(--disabled-fill-color);\n",
              "    box-shadow: none;\n",
              "  }\n",
              "\n",
              "  .colab-df-spinner {\n",
              "    border: 2px solid var(--fill-color);\n",
              "    border-color: transparent;\n",
              "    border-bottom-color: var(--fill-color);\n",
              "    animation:\n",
              "      spin 1s steps(1) infinite;\n",
              "  }\n",
              "\n",
              "  @keyframes spin {\n",
              "    0% {\n",
              "      border-color: transparent;\n",
              "      border-bottom-color: var(--fill-color);\n",
              "      border-left-color: var(--fill-color);\n",
              "    }\n",
              "    20% {\n",
              "      border-color: transparent;\n",
              "      border-left-color: var(--fill-color);\n",
              "      border-top-color: var(--fill-color);\n",
              "    }\n",
              "    30% {\n",
              "      border-color: transparent;\n",
              "      border-left-color: var(--fill-color);\n",
              "      border-top-color: var(--fill-color);\n",
              "      border-right-color: var(--fill-color);\n",
              "    }\n",
              "    40% {\n",
              "      border-color: transparent;\n",
              "      border-right-color: var(--fill-color);\n",
              "      border-top-color: var(--fill-color);\n",
              "    }\n",
              "    60% {\n",
              "      border-color: transparent;\n",
              "      border-right-color: var(--fill-color);\n",
              "    }\n",
              "    80% {\n",
              "      border-color: transparent;\n",
              "      border-right-color: var(--fill-color);\n",
              "      border-bottom-color: var(--fill-color);\n",
              "    }\n",
              "    90% {\n",
              "      border-color: transparent;\n",
              "      border-bottom-color: var(--fill-color);\n",
              "    }\n",
              "  }\n",
              "</style>\n",
              "\n",
              "  <script>\n",
              "    async function quickchart(key) {\n",
              "      const quickchartButtonEl =\n",
              "        document.querySelector('#' + key + ' button');\n",
              "      quickchartButtonEl.disabled = true;  // To prevent multiple clicks.\n",
              "      quickchartButtonEl.classList.add('colab-df-spinner');\n",
              "      try {\n",
              "        const charts = await google.colab.kernel.invokeFunction(\n",
              "            'suggestCharts', [key], {});\n",
              "      } catch (error) {\n",
              "        console.error('Error during call to suggestCharts:', error);\n",
              "      }\n",
              "      quickchartButtonEl.classList.remove('colab-df-spinner');\n",
              "      quickchartButtonEl.classList.add('colab-df-quickchart-complete');\n",
              "    }\n",
              "    (() => {\n",
              "      let quickchartButtonEl =\n",
              "        document.querySelector('#df-c7b21edd-c43c-4775-ba05-6bbf2302c359 button');\n",
              "      quickchartButtonEl.style.display =\n",
              "        google.colab.kernel.accessAllowed ? 'block' : 'none';\n",
              "    })();\n",
              "  </script>\n",
              "</div>\n",
              "    </div>\n",
              "  </div>\n"
            ]
          },
          "metadata": {},
          "execution_count": 7
        }
      ]
    },
    {
      "cell_type": "code",
      "source": [
        "from sklearn.compose import ColumnTransformer\n",
        "from sklearn.preprocessing import OneHotEncoder\n",
        "ct = ColumnTransformer(transformers=[('encoder', OneHotEncoder(), [0])], remainder='passthrough')\n",
        "X = np.array(ct.fit_transform(X))"
      ],
      "metadata": {
        "id": "7dxNKHsMdzZ4"
      },
      "execution_count": 8,
      "outputs": []
    },
    {
      "cell_type": "code",
      "source": [
        "print(X)"
      ],
      "metadata": {
        "colab": {
          "base_uri": "https://localhost:8080/"
        },
        "id": "Dqcso3l7j75X",
        "outputId": "e3086499-f047-44dc-8dbf-fadf6e481b40"
      },
      "execution_count": 9,
      "outputs": [
        {
          "output_type": "stream",
          "name": "stdout",
          "text": [
            "[[  1.     0.     0.   ...   1.   455.13 108.  ]\n",
            " [  1.     0.     0.   ...   2.    69.17  19.  ]\n",
            " [  1.     0.     0.   ...   3.    72.88  13.  ]\n",
            " ...\n",
            " [  0.     0.     0.   ...   7.     2.83   1.  ]\n",
            " [  0.     0.     0.   ...   8.    13.06   0.  ]\n",
            " [  0.     0.     0.   ...   9.   384.87  16.  ]]\n"
          ]
        }
      ]
    },
    {
      "cell_type": "code",
      "source": [
        "from sklearn.preprocessing import LabelEncoder\n",
        "le = LabelEncoder()\n",
        "y = le.fit_transform(y)"
      ],
      "metadata": {
        "id": "G9KPSm9QY5kz"
      },
      "execution_count": 10,
      "outputs": []
    },
    {
      "cell_type": "code",
      "source": [
        "print(y)\n"
      ],
      "metadata": {
        "colab": {
          "base_uri": "https://localhost:8080/"
        },
        "id": "3wvahIigkZwi",
        "outputId": "88b3aae5-aa4f-42ca-ae65-af2482fb7ee2"
      },
      "execution_count": 11,
      "outputs": [
        {
          "output_type": "stream",
          "name": "stdout",
          "text": [
            "[1515  881  559 ...   32    0 1208]\n"
          ]
        }
      ]
    },
    {
      "cell_type": "code",
      "source": [
        "from sklearn.model_selection import train_test_split\n",
        "X_train, X_test, y_train, y_test = train_test_split(X, y, test_size = 0.2, random_state = 1)"
      ],
      "metadata": {
        "id": "omZYsbLfkcuS"
      },
      "execution_count": 12,
      "outputs": []
    },
    {
      "cell_type": "code",
      "source": [
        "print(X_train)"
      ],
      "metadata": {
        "colab": {
          "base_uri": "https://localhost:8080/"
        },
        "id": "TUOeaX6zkiM9",
        "outputId": "8498eebd-1cf0-461e-d454-43e905f89019"
      },
      "execution_count": 13,
      "outputs": [
        {
          "output_type": "stream",
          "name": "stdout",
          "text": [
            "[[0.00000e+00 0.00000e+00 1.00000e+00 ... 3.00000e+00 9.60000e-01\n",
            "  0.00000e+00]\n",
            " [0.00000e+00 0.00000e+00 0.00000e+00 ... 6.00000e+00 5.23390e+02\n",
            "  1.40000e+01]\n",
            " [1.00000e+00 0.00000e+00 0.00000e+00 ... 4.00000e+00 4.61800e+01\n",
            "  1.00000e+00]\n",
            " ...\n",
            " [0.00000e+00 0.00000e+00 1.00000e+00 ... 1.00000e+00 9.30380e+02\n",
            "  5.30000e+01]\n",
            " [1.00000e+00 0.00000e+00 0.00000e+00 ... 2.00000e+00 2.98730e+02\n",
            "  5.00000e+00]\n",
            " [0.00000e+00 0.00000e+00 1.00000e+00 ... 2.00000e+00 1.68152e+03\n",
            "  7.10000e+01]]\n"
          ]
        }
      ]
    },
    {
      "cell_type": "code",
      "source": [
        "print(X_test)"
      ],
      "metadata": {
        "colab": {
          "base_uri": "https://localhost:8080/"
        },
        "id": "rYwb8PHvkssR",
        "outputId": "961b7baf-a41b-49a5-f4ce-d56764831df6"
      },
      "execution_count": 14,
      "outputs": [
        {
          "output_type": "stream",
          "name": "stdout",
          "text": [
            "[[ 0.    0.    0.   ...  5.   25.1   1.  ]\n",
            " [ 0.    0.    0.   ...  5.    0.7   0.  ]\n",
            " [ 0.    0.    0.   ...  2.    1.61  0.  ]\n",
            " ...\n",
            " [ 0.    0.    0.   ...  3.    0.2   0.  ]\n",
            " [ 1.    0.    0.   ...  3.   40.03  1.  ]\n",
            " [ 0.    0.    0.   ...  2.   31.55  3.  ]]\n"
          ]
        }
      ]
    },
    {
      "cell_type": "code",
      "source": [
        "from sklearn.preprocessing import StandardScaler\n",
        "sc = StandardScaler()\n",
        "X_train = sc.fit_transform(X_train)\n",
        "X_test = sc.transform(X_test)"
      ],
      "metadata": {
        "id": "rKXJMEcOk6za"
      },
      "execution_count": 15,
      "outputs": []
    },
    {
      "cell_type": "code",
      "source": [
        "print(X_train)"
      ],
      "metadata": {
        "colab": {
          "base_uri": "https://localhost:8080/"
        },
        "id": "IikfN8WnlAgW",
        "outputId": "95609ae2-c06f-4785-9cc7-5b589570560b"
      },
      "execution_count": 16,
      "outputs": [
        {
          "output_type": "stream",
          "name": "stdout",
          "text": [
            "[[-0.50536688 -0.49641572  1.96832459 ... -0.7554002  -0.17949419\n",
            "  -0.24403239]\n",
            " [-0.50536688 -0.49641572 -0.50804629 ...  0.40769393 -0.09200896\n",
            "  -0.17334324]\n",
            " [ 1.97876046 -0.49641572 -0.50804629 ... -0.36770216 -0.17192173\n",
            "  -0.23898317]\n",
            " ...\n",
            " [-0.50536688 -0.49641572  1.96832459 ... -1.53079629 -0.02385511\n",
            "   0.02357655]\n",
            " [ 1.97876046 -0.49641572 -0.50804629 ... -1.14309825 -0.12963014\n",
            "  -0.21878626]\n",
            " [-0.50536688 -0.49641572  1.96832459 ... -1.14309825  0.1019295\n",
            "   0.11446261]]\n"
          ]
        }
      ]
    },
    {
      "cell_type": "code",
      "source": [
        "print(X_test)"
      ],
      "metadata": {
        "colab": {
          "base_uri": "https://localhost:8080/"
        },
        "id": "60TJ2gSwlEf0",
        "outputId": "bc2963c3-df79-4988-c916-9c4d746efc47"
      },
      "execution_count": 17,
      "outputs": [
        {
          "output_type": "stream",
          "name": "stdout",
          "text": [
            "[[-0.50536688 -0.49641572 -0.50804629 ...  0.01999589 -0.17545175\n",
            "  -0.23898317]\n",
            " [-0.50536688 -0.49641572 -0.50804629 ...  0.01999589 -0.17953773\n",
            "  -0.24403239]\n",
            " [-0.50536688 -0.49641572 -0.50804629 ... -1.14309825 -0.17938535\n",
            "  -0.24403239]\n",
            " ...\n",
            " [-0.50536688 -0.49641572 -0.50804629 ... -0.7554002  -0.17962146\n",
            "  -0.24403239]\n",
            " [ 1.97876046 -0.49641572 -0.50804629 ... -0.7554002  -0.1729516\n",
            "  -0.23898317]\n",
            " [-0.50536688 -0.49641572 -0.50804629 ... -1.14309825 -0.17437165\n",
            "  -0.22888471]]\n"
          ]
        }
      ]
    },
    {
      "cell_type": "code",
      "source": [
        "from sklearn.linear_model import LinearRegression\n",
        "regressor = LinearRegression()\n",
        "regressor.fit(X_train, y_train)"
      ],
      "metadata": {
        "colab": {
          "base_uri": "https://localhost:8080/",
          "height": 74
        },
        "id": "hw5peLvXpbP8",
        "outputId": "e30688ab-767b-4a9c-d37e-1402f93efd50"
      },
      "execution_count": 18,
      "outputs": [
        {
          "output_type": "execute_result",
          "data": {
            "text/plain": [
              "LinearRegression()"
            ],
            "text/html": [
              "<style>#sk-container-id-1 {color: black;background-color: white;}#sk-container-id-1 pre{padding: 0;}#sk-container-id-1 div.sk-toggleable {background-color: white;}#sk-container-id-1 label.sk-toggleable__label {cursor: pointer;display: block;width: 100%;margin-bottom: 0;padding: 0.3em;box-sizing: border-box;text-align: center;}#sk-container-id-1 label.sk-toggleable__label-arrow:before {content: \"▸\";float: left;margin-right: 0.25em;color: #696969;}#sk-container-id-1 label.sk-toggleable__label-arrow:hover:before {color: black;}#sk-container-id-1 div.sk-estimator:hover label.sk-toggleable__label-arrow:before {color: black;}#sk-container-id-1 div.sk-toggleable__content {max-height: 0;max-width: 0;overflow: hidden;text-align: left;background-color: #f0f8ff;}#sk-container-id-1 div.sk-toggleable__content pre {margin: 0.2em;color: black;border-radius: 0.25em;background-color: #f0f8ff;}#sk-container-id-1 input.sk-toggleable__control:checked~div.sk-toggleable__content {max-height: 200px;max-width: 100%;overflow: auto;}#sk-container-id-1 input.sk-toggleable__control:checked~label.sk-toggleable__label-arrow:before {content: \"▾\";}#sk-container-id-1 div.sk-estimator input.sk-toggleable__control:checked~label.sk-toggleable__label {background-color: #d4ebff;}#sk-container-id-1 div.sk-label input.sk-toggleable__control:checked~label.sk-toggleable__label {background-color: #d4ebff;}#sk-container-id-1 input.sk-hidden--visually {border: 0;clip: rect(1px 1px 1px 1px);clip: rect(1px, 1px, 1px, 1px);height: 1px;margin: -1px;overflow: hidden;padding: 0;position: absolute;width: 1px;}#sk-container-id-1 div.sk-estimator {font-family: monospace;background-color: #f0f8ff;border: 1px dotted black;border-radius: 0.25em;box-sizing: border-box;margin-bottom: 0.5em;}#sk-container-id-1 div.sk-estimator:hover {background-color: #d4ebff;}#sk-container-id-1 div.sk-parallel-item::after {content: \"\";width: 100%;border-bottom: 1px solid gray;flex-grow: 1;}#sk-container-id-1 div.sk-label:hover label.sk-toggleable__label {background-color: #d4ebff;}#sk-container-id-1 div.sk-serial::before {content: \"\";position: absolute;border-left: 1px solid gray;box-sizing: border-box;top: 0;bottom: 0;left: 50%;z-index: 0;}#sk-container-id-1 div.sk-serial {display: flex;flex-direction: column;align-items: center;background-color: white;padding-right: 0.2em;padding-left: 0.2em;position: relative;}#sk-container-id-1 div.sk-item {position: relative;z-index: 1;}#sk-container-id-1 div.sk-parallel {display: flex;align-items: stretch;justify-content: center;background-color: white;position: relative;}#sk-container-id-1 div.sk-item::before, #sk-container-id-1 div.sk-parallel-item::before {content: \"\";position: absolute;border-left: 1px solid gray;box-sizing: border-box;top: 0;bottom: 0;left: 50%;z-index: -1;}#sk-container-id-1 div.sk-parallel-item {display: flex;flex-direction: column;z-index: 1;position: relative;background-color: white;}#sk-container-id-1 div.sk-parallel-item:first-child::after {align-self: flex-end;width: 50%;}#sk-container-id-1 div.sk-parallel-item:last-child::after {align-self: flex-start;width: 50%;}#sk-container-id-1 div.sk-parallel-item:only-child::after {width: 0;}#sk-container-id-1 div.sk-dashed-wrapped {border: 1px dashed gray;margin: 0 0.4em 0.5em 0.4em;box-sizing: border-box;padding-bottom: 0.4em;background-color: white;}#sk-container-id-1 div.sk-label label {font-family: monospace;font-weight: bold;display: inline-block;line-height: 1.2em;}#sk-container-id-1 div.sk-label-container {text-align: center;}#sk-container-id-1 div.sk-container {/* jupyter's `normalize.less` sets `[hidden] { display: none; }` but bootstrap.min.css set `[hidden] { display: none !important; }` so we also need the `!important` here to be able to override the default hidden behavior on the sphinx rendered scikit-learn.org. See: https://github.com/scikit-learn/scikit-learn/issues/21755 */display: inline-block !important;position: relative;}#sk-container-id-1 div.sk-text-repr-fallback {display: none;}</style><div id=\"sk-container-id-1\" class=\"sk-top-container\"><div class=\"sk-text-repr-fallback\"><pre>LinearRegression()</pre><b>In a Jupyter environment, please rerun this cell to show the HTML representation or trust the notebook. <br />On GitHub, the HTML representation is unable to render, please try loading this page with nbviewer.org.</b></div><div class=\"sk-container\" hidden><div class=\"sk-item\"><div class=\"sk-estimator sk-toggleable\"><input class=\"sk-toggleable__control sk-hidden--visually\" id=\"sk-estimator-id-1\" type=\"checkbox\" checked><label for=\"sk-estimator-id-1\" class=\"sk-toggleable__label sk-toggleable__label-arrow\">LinearRegression</label><div class=\"sk-toggleable__content\"><pre>LinearRegression()</pre></div></div></div></div></div>"
            ]
          },
          "metadata": {},
          "execution_count": 18
        }
      ]
    },
    {
      "cell_type": "code",
      "source": [
        "y_pred=regressor.predict(X_test)"
      ],
      "metadata": {
        "id": "5mcW-Uy3Di3G"
      },
      "execution_count": 19,
      "outputs": []
    },
    {
      "cell_type": "code",
      "source": [
        "y_pred"
      ],
      "metadata": {
        "colab": {
          "base_uri": "https://localhost:8080/"
        },
        "id": "Fdfa4yZ5YTK6",
        "outputId": "8b5714de-5dc1-4b86-c804-3638157cad85"
      },
      "execution_count": 20,
      "outputs": [
        {
          "output_type": "execute_result",
          "data": {
            "text/plain": [
              "array([ 676.24869082,  269.72521863,  163.67773102,  613.65776754,\n",
              "        474.27755878,  646.8624064 ,  671.23717177,  318.30722328,\n",
              "        922.84663546,  660.49351014,  500.6464205 ,  373.21766504,\n",
              "        479.72000021,  690.75562572,  213.14758729,  432.03393816,\n",
              "        603.04396623,  947.86344653,  721.70859356,  858.22499484,\n",
              "        988.33830478,  517.85240357,  581.0822602 ,  392.66326719,\n",
              "        934.48186639,  441.96453123,  536.69281521,  314.31974748,\n",
              "       1010.61548023,  455.5916271 ,  463.14434092,  951.23830033,\n",
              "        964.97435294,  686.16423745,  857.14412904,  335.81930111,\n",
              "        961.04401695,  368.5504016 , 1029.67353609, 1157.98785379,\n",
              "        609.29450537,  476.53162918,  879.69598479, 2819.0827019 ,\n",
              "        506.90351623,  724.10503176,  922.9985177 ,  665.3808357 ,\n",
              "       1294.74305525,  610.98110904,  291.1024504 ,   56.7236531 ,\n",
              "       1061.26064828,  763.48635974,  868.27659304,  939.8330145 ,\n",
              "       1030.5096296 ,  768.74316601,  974.04892262,  409.93081364,\n",
              "        845.92425677,  945.66079112,  827.52395257,  723.47704409,\n",
              "        250.7676757 ,  707.9569919 ,  263.13702735,  434.6881941 ,\n",
              "        620.50291398,  227.73272299,  313.75516706,  591.00885769,\n",
              "        679.13605914, 1167.36304823,  830.31261569,  262.70434495,\n",
              "        729.14858334,  566.35872399, 1553.16365203,  791.34199917,\n",
              "       2648.22703699,  881.28763985,  563.30059028,  539.76382424,\n",
              "        922.86676199,  622.16928748,  598.50378534, 1034.70327989,\n",
              "        438.05353265, 2773.95011793,  532.92194233, 1184.02844824,\n",
              "        774.89122841,  476.70299516,  111.89048087, 2000.2750406 ,\n",
              "        292.3034875 ,  373.27736428,  321.12450314, 1249.8465472 ,\n",
              "        260.54321891,  373.14111592,  493.8144429 ,  901.19625041,\n",
              "        618.30715684,  608.93855511, 1180.04250933,  501.0097734 ,\n",
              "        582.77731317,  258.73862488,  748.16421723,  652.84956359,\n",
              "        198.06657869,  845.75278307,  636.94175432,  887.46771413,\n",
              "        628.84931273,  490.56083843,  711.19333648,  677.02298763,\n",
              "        708.11695917,  390.57633205,  827.73089963,  498.07219426,\n",
              "        579.81951037,  737.08284683,  942.2129743 ,  776.48859202,\n",
              "        778.39297185,  860.30492832,  544.29766849,  560.37453928,\n",
              "        816.77178144, 1325.4121571 ,  621.33868474,  553.39937909,\n",
              "        984.78674482,  792.60456628, 1630.08733578,  694.63436318,\n",
              "        899.0222811 , 1565.16369934, 1082.86881684,  830.64433801,\n",
              "        217.00841714,  673.34575145,  417.63754919,  802.12025199,\n",
              "        482.61305956,  855.90483236,  850.09685978,  847.02909711,\n",
              "        806.26453077, 1031.99900908,  688.4495031 ,  875.24405182,\n",
              "        810.05799277,  525.13103929,  148.58066842,  641.63167842,\n",
              "        821.93584905,  658.24955172,  477.90344984,  706.88191145,\n",
              "        981.84709973,  517.48898662,  815.27314679,  417.72219999,\n",
              "        541.46381278,  543.42447607,  553.58966611,  600.4676873 ,\n",
              "       1085.8375983 , 1511.31244566,  629.67734042, 1697.05378931,\n",
              "        834.61652719,  184.07946311,  851.07776809, 1083.37495628,\n",
              "       1051.05817811,  441.99416577,  790.95683026, 1097.25735427,\n",
              "        588.72452933, 1052.50368952,  659.98890882, 1225.57465989,\n",
              "        876.69777552,  429.96518461, 1096.94378974,  386.29104618,\n",
              "        694.12339955,  359.67929654,  490.54689805,  616.51446998,\n",
              "        943.01253225,  750.55046638,  491.34737791,  204.03053307,\n",
              "        553.46531418,  856.40243401,  737.85769034,  791.15357862,\n",
              "        778.67487401,  254.6946334 ,  990.16480225,  377.95323147,\n",
              "       1012.07300083,  340.375755  ,  178.77515381,  589.91009091,\n",
              "        442.615548  ,  764.74310151,  586.70781483,  873.50670132,\n",
              "        582.12073108,  621.36283459,  980.55172165,  546.3457625 ,\n",
              "        811.02117845,  900.09213048,  679.32957472,  744.98517463,\n",
              "        428.49401061,  623.86365767,  509.0910191 ,  287.69077706,\n",
              "       1033.25547383,  439.69390811,  756.92901887,  601.16150469,\n",
              "        738.73637588,  997.10956896,  525.0808654 , 1055.27975416,\n",
              "        833.84505998, 1320.12008506,  660.45432278,  486.13971203,\n",
              "        867.61070302,  625.65204974,  740.39857673,  823.5322089 ,\n",
              "        926.6052848 ,  934.55464047,  514.12775766, 1318.21383003,\n",
              "       1251.00540272,  871.41177954,  843.98296577,  598.15232305,\n",
              "        578.86981871,  604.63775017,  735.69580927,  753.42132851,\n",
              "        604.39384903,  958.67531254,  242.83443453,  394.9108327 ,\n",
              "        895.21049952,  555.81850102,  598.50671622, 1008.04685755,\n",
              "        843.41194605,  586.43201736,  653.68421954,  938.13125652,\n",
              "        765.36141079,  938.13688353,  556.65786089,  721.47444819,\n",
              "       1011.11845744,  637.50244464,  484.05781979, 1037.80003637,\n",
              "        532.2881137 , 3771.72143795,  885.90191864,  836.18384596,\n",
              "        431.23312173,  592.88024486,  460.88038286,  693.94805915,\n",
              "       1038.36430654, 4202.69016775,  263.38211723,  653.4018276 ,\n",
              "       1096.01460733,   63.73043705,  321.67668733,  326.99363491,\n",
              "       1032.81341966,  394.69430526, 1215.72810306, 1356.88923661,\n",
              "       1154.70627996,  644.46202731,  827.44149472, 1076.66302682,\n",
              "        570.256821  , 1209.27329339,  435.4121135 ,  666.69529063,\n",
              "        777.59401637,  503.49821741, 1173.88371961,  251.47473452,\n",
              "        699.82738788,  965.85825043,  743.33934684,  740.12874266,\n",
              "        574.77423127,  858.31131512,  528.78039848,  494.8591636 ,\n",
              "        607.83608462,  950.08782879,  473.31949969,   43.64433314,\n",
              "        221.83464379,  259.49247715,  541.59727052, 1954.2252228 ,\n",
              "        546.02551322,  743.90144929,  754.04814875,  845.84164994,\n",
              "        460.0035113 ,  342.21804241, 1101.85588387,  541.54256328,\n",
              "        365.52079687,  617.28545686,  630.75358765,  391.40627639,\n",
              "        243.68087443,  930.85890351,  872.53994338,  852.8892239 ,\n",
              "        784.73912666,  680.7240179 ,  393.64505355,  613.25652914,\n",
              "        633.48692477,  701.41844366, 3251.10067358,  631.04065857,\n",
              "        972.83704709, 1101.70362585,  950.14697585, 1540.94809491,\n",
              "        791.97918556,  728.13898297,  692.97320593,  349.65066911,\n",
              "        443.60189162,  379.59267079,  645.45064109,  931.28372219,\n",
              "        582.76413508,  697.97455151, 1223.75838436,  962.77036686,\n",
              "        627.43246533,  632.24962285,  899.3553045 , 1126.219113  ,\n",
              "        502.52413398,  563.77995437,  305.63963656,  873.61248849,\n",
              "        510.72574534,   59.58119027,  849.45481837,  577.57403543,\n",
              "        611.34776531,  914.60219839,  396.21432473,  443.87445472,\n",
              "        405.17283005,  804.53889919,  740.95302868,  548.54274047,\n",
              "         35.72521863,  775.77324364,  366.74191757,  460.05152075,\n",
              "        560.33476107,  814.52102068,  638.26970476,  836.29697149,\n",
              "        775.08924432, 1155.4768789 ,  555.8336001 ,  639.77211664,\n",
              "        600.00619598,  537.67355628,  376.23625278,  309.88943719,\n",
              "       2211.78032242,  432.33211005,  212.66103208,  768.34032414,\n",
              "        131.90977833,  736.47191024,  410.15602779,  556.65163892,\n",
              "       3089.16976941,   84.72417494,  471.60073393, 1118.03466476,\n",
              "        329.15696975,  690.11634156,  413.7413284 ,  763.54782511,\n",
              "        483.72758004, 1030.52058601,  655.25196701,  692.57101257,\n",
              "        726.13156113,  386.30565775, 1005.43687783, 1111.6974334 ,\n",
              "        976.28432557,  275.57388448, 1371.40679632,  589.40360239,\n",
              "        711.93904286,  554.71548083,  882.30220023,  389.53091043,\n",
              "        122.93977112,  534.30816655,  284.75131072,  758.46958089,\n",
              "        472.0056356 ])"
            ]
          },
          "metadata": {},
          "execution_count": 20
        }
      ]
    },
    {
      "cell_type": "code",
      "source": [
        "from sklearn.preprocessing import PolynomialFeatures\n",
        "poly_reg = PolynomialFeatures(degree = 4)\n",
        "X_poly = poly_reg.fit_transform(X)\n",
        "lin_reg_2 = LinearRegression()\n",
        "lin_reg_2.fit(X_poly, y)\n",
        "lin_reg_2.coef_"
      ],
      "metadata": {
        "colab": {
          "base_uri": "https://localhost:8080/"
        },
        "id": "_6mp9P97DoJU",
        "outputId": "5bcde992-45a8-40cd-ae15-ebcf0f2b32b9"
      },
      "execution_count": 21,
      "outputs": [
        {
          "output_type": "execute_result",
          "data": {
            "text/plain": [
              "array([-2.36132595e-03,  3.37845768e-03,  6.55158865e-04, ...,\n",
              "        1.18836165e-09, -2.68977491e-08,  1.18714048e-07])"
            ]
          },
          "metadata": {},
          "execution_count": 21
        }
      ]
    },
    {
      "cell_type": "code",
      "source": [
        "from sklearn.linear_model import LinearRegression\n",
        "lin_reg = LinearRegression()\n",
        "lin_reg.fit(X_train, y_train)\n",
        "lin_reg.predict(X_test)"
      ],
      "metadata": {
        "colab": {
          "base_uri": "https://localhost:8080/"
        },
        "id": "q0LND4WsYcO1",
        "outputId": "fa805543-321d-45b5-b8b0-3bd1f68fe18d"
      },
      "execution_count": 22,
      "outputs": [
        {
          "output_type": "execute_result",
          "data": {
            "text/plain": [
              "array([ 676.24869082,  269.72521863,  163.67773102,  613.65776754,\n",
              "        474.27755878,  646.8624064 ,  671.23717177,  318.30722328,\n",
              "        922.84663546,  660.49351014,  500.6464205 ,  373.21766504,\n",
              "        479.72000021,  690.75562572,  213.14758729,  432.03393816,\n",
              "        603.04396623,  947.86344653,  721.70859356,  858.22499484,\n",
              "        988.33830478,  517.85240357,  581.0822602 ,  392.66326719,\n",
              "        934.48186639,  441.96453123,  536.69281521,  314.31974748,\n",
              "       1010.61548023,  455.5916271 ,  463.14434092,  951.23830033,\n",
              "        964.97435294,  686.16423745,  857.14412904,  335.81930111,\n",
              "        961.04401695,  368.5504016 , 1029.67353609, 1157.98785379,\n",
              "        609.29450537,  476.53162918,  879.69598479, 2819.0827019 ,\n",
              "        506.90351623,  724.10503176,  922.9985177 ,  665.3808357 ,\n",
              "       1294.74305525,  610.98110904,  291.1024504 ,   56.7236531 ,\n",
              "       1061.26064828,  763.48635974,  868.27659304,  939.8330145 ,\n",
              "       1030.5096296 ,  768.74316601,  974.04892262,  409.93081364,\n",
              "        845.92425677,  945.66079112,  827.52395257,  723.47704409,\n",
              "        250.7676757 ,  707.9569919 ,  263.13702735,  434.6881941 ,\n",
              "        620.50291398,  227.73272299,  313.75516706,  591.00885769,\n",
              "        679.13605914, 1167.36304823,  830.31261569,  262.70434495,\n",
              "        729.14858334,  566.35872399, 1553.16365203,  791.34199917,\n",
              "       2648.22703699,  881.28763985,  563.30059028,  539.76382424,\n",
              "        922.86676199,  622.16928748,  598.50378534, 1034.70327989,\n",
              "        438.05353265, 2773.95011793,  532.92194233, 1184.02844824,\n",
              "        774.89122841,  476.70299516,  111.89048087, 2000.2750406 ,\n",
              "        292.3034875 ,  373.27736428,  321.12450314, 1249.8465472 ,\n",
              "        260.54321891,  373.14111592,  493.8144429 ,  901.19625041,\n",
              "        618.30715684,  608.93855511, 1180.04250933,  501.0097734 ,\n",
              "        582.77731317,  258.73862488,  748.16421723,  652.84956359,\n",
              "        198.06657869,  845.75278307,  636.94175432,  887.46771413,\n",
              "        628.84931273,  490.56083843,  711.19333648,  677.02298763,\n",
              "        708.11695917,  390.57633205,  827.73089963,  498.07219426,\n",
              "        579.81951037,  737.08284683,  942.2129743 ,  776.48859202,\n",
              "        778.39297185,  860.30492832,  544.29766849,  560.37453928,\n",
              "        816.77178144, 1325.4121571 ,  621.33868474,  553.39937909,\n",
              "        984.78674482,  792.60456628, 1630.08733578,  694.63436318,\n",
              "        899.0222811 , 1565.16369934, 1082.86881684,  830.64433801,\n",
              "        217.00841714,  673.34575145,  417.63754919,  802.12025199,\n",
              "        482.61305956,  855.90483236,  850.09685978,  847.02909711,\n",
              "        806.26453077, 1031.99900908,  688.4495031 ,  875.24405182,\n",
              "        810.05799277,  525.13103929,  148.58066842,  641.63167842,\n",
              "        821.93584905,  658.24955172,  477.90344984,  706.88191145,\n",
              "        981.84709973,  517.48898662,  815.27314679,  417.72219999,\n",
              "        541.46381278,  543.42447607,  553.58966611,  600.4676873 ,\n",
              "       1085.8375983 , 1511.31244566,  629.67734042, 1697.05378931,\n",
              "        834.61652719,  184.07946311,  851.07776809, 1083.37495628,\n",
              "       1051.05817811,  441.99416577,  790.95683026, 1097.25735427,\n",
              "        588.72452933, 1052.50368952,  659.98890882, 1225.57465989,\n",
              "        876.69777552,  429.96518461, 1096.94378974,  386.29104618,\n",
              "        694.12339955,  359.67929654,  490.54689805,  616.51446998,\n",
              "        943.01253225,  750.55046638,  491.34737791,  204.03053307,\n",
              "        553.46531418,  856.40243401,  737.85769034,  791.15357862,\n",
              "        778.67487401,  254.6946334 ,  990.16480225,  377.95323147,\n",
              "       1012.07300083,  340.375755  ,  178.77515381,  589.91009091,\n",
              "        442.615548  ,  764.74310151,  586.70781483,  873.50670132,\n",
              "        582.12073108,  621.36283459,  980.55172165,  546.3457625 ,\n",
              "        811.02117845,  900.09213048,  679.32957472,  744.98517463,\n",
              "        428.49401061,  623.86365767,  509.0910191 ,  287.69077706,\n",
              "       1033.25547383,  439.69390811,  756.92901887,  601.16150469,\n",
              "        738.73637588,  997.10956896,  525.0808654 , 1055.27975416,\n",
              "        833.84505998, 1320.12008506,  660.45432278,  486.13971203,\n",
              "        867.61070302,  625.65204974,  740.39857673,  823.5322089 ,\n",
              "        926.6052848 ,  934.55464047,  514.12775766, 1318.21383003,\n",
              "       1251.00540272,  871.41177954,  843.98296577,  598.15232305,\n",
              "        578.86981871,  604.63775017,  735.69580927,  753.42132851,\n",
              "        604.39384903,  958.67531254,  242.83443453,  394.9108327 ,\n",
              "        895.21049952,  555.81850102,  598.50671622, 1008.04685755,\n",
              "        843.41194605,  586.43201736,  653.68421954,  938.13125652,\n",
              "        765.36141079,  938.13688353,  556.65786089,  721.47444819,\n",
              "       1011.11845744,  637.50244464,  484.05781979, 1037.80003637,\n",
              "        532.2881137 , 3771.72143795,  885.90191864,  836.18384596,\n",
              "        431.23312173,  592.88024486,  460.88038286,  693.94805915,\n",
              "       1038.36430654, 4202.69016775,  263.38211723,  653.4018276 ,\n",
              "       1096.01460733,   63.73043705,  321.67668733,  326.99363491,\n",
              "       1032.81341966,  394.69430526, 1215.72810306, 1356.88923661,\n",
              "       1154.70627996,  644.46202731,  827.44149472, 1076.66302682,\n",
              "        570.256821  , 1209.27329339,  435.4121135 ,  666.69529063,\n",
              "        777.59401637,  503.49821741, 1173.88371961,  251.47473452,\n",
              "        699.82738788,  965.85825043,  743.33934684,  740.12874266,\n",
              "        574.77423127,  858.31131512,  528.78039848,  494.8591636 ,\n",
              "        607.83608462,  950.08782879,  473.31949969,   43.64433314,\n",
              "        221.83464379,  259.49247715,  541.59727052, 1954.2252228 ,\n",
              "        546.02551322,  743.90144929,  754.04814875,  845.84164994,\n",
              "        460.0035113 ,  342.21804241, 1101.85588387,  541.54256328,\n",
              "        365.52079687,  617.28545686,  630.75358765,  391.40627639,\n",
              "        243.68087443,  930.85890351,  872.53994338,  852.8892239 ,\n",
              "        784.73912666,  680.7240179 ,  393.64505355,  613.25652914,\n",
              "        633.48692477,  701.41844366, 3251.10067358,  631.04065857,\n",
              "        972.83704709, 1101.70362585,  950.14697585, 1540.94809491,\n",
              "        791.97918556,  728.13898297,  692.97320593,  349.65066911,\n",
              "        443.60189162,  379.59267079,  645.45064109,  931.28372219,\n",
              "        582.76413508,  697.97455151, 1223.75838436,  962.77036686,\n",
              "        627.43246533,  632.24962285,  899.3553045 , 1126.219113  ,\n",
              "        502.52413398,  563.77995437,  305.63963656,  873.61248849,\n",
              "        510.72574534,   59.58119027,  849.45481837,  577.57403543,\n",
              "        611.34776531,  914.60219839,  396.21432473,  443.87445472,\n",
              "        405.17283005,  804.53889919,  740.95302868,  548.54274047,\n",
              "         35.72521863,  775.77324364,  366.74191757,  460.05152075,\n",
              "        560.33476107,  814.52102068,  638.26970476,  836.29697149,\n",
              "        775.08924432, 1155.4768789 ,  555.8336001 ,  639.77211664,\n",
              "        600.00619598,  537.67355628,  376.23625278,  309.88943719,\n",
              "       2211.78032242,  432.33211005,  212.66103208,  768.34032414,\n",
              "        131.90977833,  736.47191024,  410.15602779,  556.65163892,\n",
              "       3089.16976941,   84.72417494,  471.60073393, 1118.03466476,\n",
              "        329.15696975,  690.11634156,  413.7413284 ,  763.54782511,\n",
              "        483.72758004, 1030.52058601,  655.25196701,  692.57101257,\n",
              "        726.13156113,  386.30565775, 1005.43687783, 1111.6974334 ,\n",
              "        976.28432557,  275.57388448, 1371.40679632,  589.40360239,\n",
              "        711.93904286,  554.71548083,  882.30220023,  389.53091043,\n",
              "        122.93977112,  534.30816655,  284.75131072,  758.46958089,\n",
              "        472.0056356 ])"
            ]
          },
          "metadata": {},
          "execution_count": 22
        }
      ]
    },
    {
      "cell_type": "code",
      "source": [
        "import matplotlib.pyplot as plt\n",
        "plt.scatter(dataset[\"Claims\"],dataset[\"Payment\"])\n",
        "plt.xlabel('Claims')\n",
        "plt.ylabel('Payment')\n",
        "plt.legend()\n",
        "plt.show()"
      ],
      "metadata": {
        "colab": {
          "base_uri": "https://localhost:8080/",
          "height": 502
        },
        "id": "H7GQoXVnYgbk",
        "outputId": "614b4bf8-8373-4133-c717-d0d14f871a1b"
      },
      "execution_count": 23,
      "outputs": [
        {
          "output_type": "stream",
          "name": "stderr",
          "text": [
            "WARNING:matplotlib.legend:No artists with labels found to put in legend.  Note that artists whose label start with an underscore are ignored when legend() is called with no argument.\n"
          ]
        },
        {
          "output_type": "display_data",
          "data": {
            "text/plain": [
              "<Figure size 640x480 with 1 Axes>"
            ],
            "image/png": "[encoded data removed]"
          },
          "metadata": {}
        }
      ]
    },
    {
      "cell_type": "code",
      "source": [
        "import matplotlib.pyplot as plt\n",
        "plt.scatter(dataset[\"Insured\"],dataset[\"Payment\"])\n",
        "plt.xlabel('Insured')\n",
        "plt.ylabel('Payment')\n",
        "plt.legend()\n",
        "plt.show()"
      ],
      "metadata": {
        "colab": {
          "base_uri": "https://localhost:8080/",
          "height": 502
        },
        "id": "RdCtkYGoYiyG",
        "outputId": "e119f281-01f2-4919-bd40-06c00980ef76"
      },
      "execution_count": 24,
      "outputs": [
        {
          "output_type": "stream",
          "name": "stderr",
          "text": [
            "WARNING:matplotlib.legend:No artists with labels found to put in legend.  Note that artists whose label start with an underscore are ignored when legend() is called with no argument.\n"
          ]
        },
        {
          "output_type": "display_data",
          "data": {
            "text/plain": [
              "<Figure size 640x480 with 1 Axes>"
            ],
            "image/png": "[encoded data removed]"
          },
          "metadata": {}
        }
      ]
    },
    {
      "cell_type": "code",
      "source": [
        "import matplotlib.pyplot as plt\n",
        "plt.scatter(dataset[\"Make\"],dataset[\"Payment\"])\n",
        "plt.xlabel('Make')\n",
        "plt.ylabel('Payment')\n",
        "plt.legend()\n",
        "plt.show()"
      ],
      "metadata": {
        "colab": {
          "base_uri": "https://localhost:8080/",
          "height": 502
        },
        "id": "PJ3vE8hqYmqu",
        "outputId": "3906eb18-a92a-486d-8295-272022df7f79"
      },
      "execution_count": 25,
      "outputs": [
        {
          "output_type": "stream",
          "name": "stderr",
          "text": [
            "WARNING:matplotlib.legend:No artists with labels found to put in legend.  Note that artists whose label start with an underscore are ignored when legend() is called with no argument.\n"
          ]
        },
        {
          "output_type": "display_data",
          "data": {
            "text/plain": [
              "<Figure size 640x480 with 1 Axes>"
            ],
            "image/png": "[encoded data removed]"
          },
          "metadata": {}
        }
      ]
    },
    {
      "cell_type": "code",
      "source": [
        "import matplotlib.pyplot as plt\n",
        "plt.scatter(dataset[\"Bonus\"],dataset[\"Payment\"])\n",
        "plt.xlabel('Bonus')\n",
        "plt.ylabel('Payment')\n",
        "plt.legend()\n",
        "plt.show()"
      ],
      "metadata": {
        "colab": {
          "base_uri": "https://localhost:8080/",
          "height": 502
        },
        "id": "Z-MKemBXYrIJ",
        "outputId": "817eb156-e83d-4df5-9d8e-648aea95b80b"
      },
      "execution_count": 26,
      "outputs": [
        {
          "output_type": "stream",
          "name": "stderr",
          "text": [
            "WARNING:matplotlib.legend:No artists with labels found to put in legend.  Note that artists whose label start with an underscore are ignored when legend() is called with no argument.\n"
          ]
        },
        {
          "output_type": "display_data",
          "data": {
            "text/plain": [
              "<Figure size 640x480 with 1 Axes>"
            ],
            "image/png": "[encoded data removed]"
          },
          "metadata": {}
        }
      ]
    },
    {
      "cell_type": "code",
      "source": [
        "import matplotlib.pyplot as plt\n",
        "plt.scatter(dataset[\"Zone\"],dataset[\"Payment\"])\n",
        "plt.xlabel('Zone')\n",
        "plt.ylabel('Payment')\n",
        "plt.legend()\n",
        "plt.show()"
      ],
      "metadata": {
        "colab": {
          "base_uri": "https://localhost:8080/",
          "height": 502
        },
        "id": "HpeTFubHYthV",
        "outputId": "7c0f4297-6f4a-445e-83d6-67d41505040f"
      },
      "execution_count": 27,
      "outputs": [
        {
          "output_type": "stream",
          "name": "stderr",
          "text": [
            "WARNING:matplotlib.legend:No artists with labels found to put in legend.  Note that artists whose label start with an underscore are ignored when legend() is called with no argument.\n"
          ]
        },
        {
          "output_type": "display_data",
          "data": {
            "text/plain": [
              "<Figure size 640x480 with 1 Axes>"
            ],
            "image/png": "[encoded data removed]"
          },
          "metadata": {}
        }
      ]
    },
    {
      "cell_type": "code",
      "source": [
        "import matplotlib.pyplot as plt\n",
        "plt.scatter(dataset[\"Kilometres\"],dataset[\"Payment\"])\n",
        "plt.xlabel('Kilometres')\n",
        "plt.ylabel('Payment')\n",
        "plt.legend()"
      ],
      "metadata": {
        "colab": {
          "base_uri": "https://localhost:8080/",
          "height": 520
        },
        "id": "H4Vxv9CJYvOs",
        "outputId": "0bea0bc0-da1e-4288-cc8e-d557f395322c"
      },
      "execution_count": 28,
      "outputs": [
        {
          "output_type": "stream",
          "name": "stderr",
          "text": [
            "WARNING:matplotlib.legend:No artists with labels found to put in legend.  Note that artists whose label start with an underscore are ignored when legend() is called with no argument.\n"
          ]
        },
        {
          "output_type": "execute_result",
          "data": {
            "text/plain": [
              "<matplotlib.legend.Legend at 0x7f8946d8b220>"
            ]
          },
          "metadata": {},
          "execution_count": 28
        },
        {
          "output_type": "display_data",
          "data": {
            "text/plain": [
              "<Figure size 640x480 with 1 Axes>"
            ],
            "image/png": "[encoded data removed]"
          },
          "metadata": {}
        }
      ]
    },
    {
      "cell_type": "code",
      "source": [
        "import seaborn as sns\n",
        "sns.heatmap(dataset.corr())"
      ],
      "metadata": {
        "colab": {
          "base_uri": "https://localhost:8080/",
          "height": 452
        },
        "id": "Tz4de0SGYysF",
        "outputId": "14978e75-b812-49ad-a454-543a329c8b96"
      },
      "execution_count": 29,
      "outputs": [
        {
          "output_type": "execute_result",
          "data": {
            "text/plain": [
              "<Axes: >"
            ]
          },
          "metadata": {},
          "execution_count": 29
        },
        {
          "output_type": "display_data",
          "data": {
            "text/plain": [
              "<Figure size 640x480 with 2 Axes>"
            ],
            "image/png": "[encoded data removed]"
          },
          "metadata": {}
        }
      ]
    }
  ]
}